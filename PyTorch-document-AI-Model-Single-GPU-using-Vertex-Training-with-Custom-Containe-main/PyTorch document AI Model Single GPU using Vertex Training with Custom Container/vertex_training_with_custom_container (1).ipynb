{
 "cells": [
  {
   "cell_type": "code",
   "execution_count": 75,
   "metadata": {
    "colab": {
     "base_uri": "https://localhost:8080/"
    },
    "id": "AHspDIb0Pkyk",
    "outputId": "34badd60-98ab-4e60-92a4-0ab467d6f047",
    "tags": []
   },
   "outputs": [
    {
     "name": "stdout",
     "output_type": "stream",
     "text": [
      "Collecting google-colab\n",
      "  Using cached google-colab-1.0.0.tar.gz (72 kB)\n",
      "  Preparing metadata (setup.py) ... \u001b[?25ldone\n",
      "\u001b[?25hCollecting google-auth~=1.4.0 (from google-colab)\n",
      "  Using cached google_auth-1.4.2-py2.py3-none-any.whl (64 kB)\n",
      "Collecting ipykernel~=4.6.0 (from google-colab)\n",
      "  Using cached ipykernel-4.6.1-py3-none-any.whl (104 kB)\n",
      "Collecting ipython~=5.5.0 (from google-colab)\n",
      "  Using cached ipython-5.5.0-py3-none-any.whl (758 kB)\n",
      "Collecting notebook~=5.2.0 (from google-colab)\n",
      "  Using cached notebook-5.2.2-py2.py3-none-any.whl (8.0 MB)\n",
      "Collecting six~=1.12.0 (from google-colab)\n",
      "  Using cached six-1.12.0-py2.py3-none-any.whl (10 kB)\n",
      "Collecting pandas~=0.24.0 (from google-colab)\n",
      "  Using cached pandas-0.24.2.tar.gz (11.8 MB)\n",
      "  Preparing metadata (setup.py) ... \u001b[?25lerror\n",
      "  \u001b[1;31merror\u001b[0m: \u001b[1msubprocess-exited-with-error\u001b[0m\n",
      "  \n",
      "  \u001b[31m×\u001b[0m \u001b[32mpython setup.py egg_info\u001b[0m did not run successfully.\n",
      "  \u001b[31m│\u001b[0m exit code: \u001b[1;36m1\u001b[0m\n",
      "  \u001b[31m╰─>\u001b[0m \u001b[31m[324 lines of output]\u001b[0m\n",
      "  \u001b[31m   \u001b[0m /var/tmp/pip-install-dphqwrv9/pandas_5b43a7107dab46f3991504eaaa2b0846/setup.py:12: DeprecationWarning: pkg_resources is deprecated as an API. See https://setuptools.pypa.io/en/latest/pkg_resources.html\n",
      "  \u001b[31m   \u001b[0m   import pkg_resources\n",
      "  \u001b[31m   \u001b[0m /var/tmp/pip-install-dphqwrv9/pandas_5b43a7107dab46f3991504eaaa2b0846/setup.py:50: DeprecationWarning: distutils Version classes are deprecated. Use packaging.version instead.\n",
      "  \u001b[31m   \u001b[0m   _CYTHON_INSTALLED = ver >= LooseVersion(min_cython_ver)\n",
      "  \u001b[31m   \u001b[0m warning: pandas/_libs/algos_take_helper.pxi:89:4: The 'IF' statement is deprecated and will be removed in a future Cython version. Consider using runtime conditions or C macros instead. See https://github.com/cython/cython/issues/4310\n",
      "  \u001b[31m   \u001b[0m warning: pandas/_libs/algos_take_helper.pxi:145:4: The 'IF' statement is deprecated and will be removed in a future Cython version. Consider using runtime conditions or C macros instead. See https://github.com/cython/cython/issues/4310\n",
      "  \u001b[31m   \u001b[0m warning: pandas/_libs/algos_take_helper.pxi:349:4: The 'IF' statement is deprecated and will be removed in a future Cython version. Consider using runtime conditions or C macros instead. See https://github.com/cython/cython/issues/4310\n",
      "  \u001b[31m   \u001b[0m warning: pandas/_libs/algos_take_helper.pxi:405:4: The 'IF' statement is deprecated and will be removed in a future Cython version. Consider using runtime conditions or C macros instead. See https://github.com/cython/cython/issues/4310\n",
      "  \u001b[31m   \u001b[0m warning: pandas/_libs/algos_take_helper.pxi:609:4: The 'IF' statement is deprecated and will be removed in a future Cython version. Consider using runtime conditions or C macros instead. See https://github.com/cython/cython/issues/4310\n",
      "  \u001b[31m   \u001b[0m warning: pandas/_libs/algos_take_helper.pxi:665:4: The 'IF' statement is deprecated and will be removed in a future Cython version. Consider using runtime conditions or C macros instead. See https://github.com/cython/cython/issues/4310\n",
      "  \u001b[31m   \u001b[0m warning: pandas/_libs/algos_take_helper.pxi:869:4: The 'IF' statement is deprecated and will be removed in a future Cython version. Consider using runtime conditions or C macros instead. See https://github.com/cython/cython/issues/4310\n",
      "  \u001b[31m   \u001b[0m warning: pandas/_libs/algos_take_helper.pxi:925:4: The 'IF' statement is deprecated and will be removed in a future Cython version. Consider using runtime conditions or C macros instead. See https://github.com/cython/cython/issues/4310\n",
      "  \u001b[31m   \u001b[0m warning: pandas/_libs/algos_take_helper.pxi:1129:4: The 'IF' statement is deprecated and will be removed in a future Cython version. Consider using runtime conditions or C macros instead. See https://github.com/cython/cython/issues/4310\n",
      "  \u001b[31m   \u001b[0m warning: pandas/_libs/algos_take_helper.pxi:1185:4: The 'IF' statement is deprecated and will be removed in a future Cython version. Consider using runtime conditions or C macros instead. See https://github.com/cython/cython/issues/4310\n",
      "  \u001b[31m   \u001b[0m warning: pandas/_libs/algos_take_helper.pxi:1389:4: The 'IF' statement is deprecated and will be removed in a future Cython version. Consider using runtime conditions or C macros instead. See https://github.com/cython/cython/issues/4310\n",
      "  \u001b[31m   \u001b[0m warning: pandas/_libs/algos_take_helper.pxi:1445:4: The 'IF' statement is deprecated and will be removed in a future Cython version. Consider using runtime conditions or C macros instead. See https://github.com/cython/cython/issues/4310\n",
      "  \u001b[31m   \u001b[0m warning: pandas/_libs/algos_take_helper.pxi:1649:4: The 'IF' statement is deprecated and will be removed in a future Cython version. Consider using runtime conditions or C macros instead. See https://github.com/cython/cython/issues/4310\n",
      "  \u001b[31m   \u001b[0m warning: pandas/_libs/algos_take_helper.pxi:1705:4: The 'IF' statement is deprecated and will be removed in a future Cython version. Consider using runtime conditions or C macros instead. See https://github.com/cython/cython/issues/4310\n",
      "  \u001b[31m   \u001b[0m warning: pandas/_libs/algos_take_helper.pxi:1909:4: The 'IF' statement is deprecated and will be removed in a future Cython version. Consider using runtime conditions or C macros instead. See https://github.com/cython/cython/issues/4310\n",
      "  \u001b[31m   \u001b[0m warning: pandas/_libs/algos_take_helper.pxi:1965:4: The 'IF' statement is deprecated and will be removed in a future Cython version. Consider using runtime conditions or C macros instead. See https://github.com/cython/cython/issues/4310\n",
      "  \u001b[31m   \u001b[0m warning: pandas/_libs/algos_take_helper.pxi:2169:4: The 'IF' statement is deprecated and will be removed in a future Cython version. Consider using runtime conditions or C macros instead. See https://github.com/cython/cython/issues/4310\n",
      "  \u001b[31m   \u001b[0m warning: pandas/_libs/algos_take_helper.pxi:2225:4: The 'IF' statement is deprecated and will be removed in a future Cython version. Consider using runtime conditions or C macros instead. See https://github.com/cython/cython/issues/4310\n",
      "  \u001b[31m   \u001b[0m warning: pandas/_libs/algos_take_helper.pxi:2429:4: The 'IF' statement is deprecated and will be removed in a future Cython version. Consider using runtime conditions or C macros instead. See https://github.com/cython/cython/issues/4310\n",
      "  \u001b[31m   \u001b[0m warning: pandas/_libs/algos_take_helper.pxi:2485:4: The 'IF' statement is deprecated and will be removed in a future Cython version. Consider using runtime conditions or C macros instead. See https://github.com/cython/cython/issues/4310\n",
      "  \u001b[31m   \u001b[0m warning: pandas/_libs/algos_take_helper.pxi:2689:4: The 'IF' statement is deprecated and will be removed in a future Cython version. Consider using runtime conditions or C macros instead. See https://github.com/cython/cython/issues/4310\n",
      "  \u001b[31m   \u001b[0m warning: pandas/_libs/algos_take_helper.pxi:2745:4: The 'IF' statement is deprecated and will be removed in a future Cython version. Consider using runtime conditions or C macros instead. See https://github.com/cython/cython/issues/4310\n",
      "  \u001b[31m   \u001b[0m warning: pandas/_libs/algos_take_helper.pxi:2949:4: The 'IF' statement is deprecated and will be removed in a future Cython version. Consider using runtime conditions or C macros instead. See https://github.com/cython/cython/issues/4310\n",
      "  \u001b[31m   \u001b[0m warning: pandas/_libs/algos_take_helper.pxi:3005:4: The 'IF' statement is deprecated and will be removed in a future Cython version. Consider using runtime conditions or C macros instead. See https://github.com/cython/cython/issues/4310\n",
      "  \u001b[31m   \u001b[0m warning: pandas/_libs/algos_take_helper.pxi:3209:4: The 'IF' statement is deprecated and will be removed in a future Cython version. Consider using runtime conditions or C macros instead. See https://github.com/cython/cython/issues/4310\n",
      "  \u001b[31m   \u001b[0m warning: pandas/_libs/algos_take_helper.pxi:3265:4: The 'IF' statement is deprecated and will be removed in a future Cython version. Consider using runtime conditions or C macros instead. See https://github.com/cython/cython/issues/4310\n",
      "  \u001b[31m   \u001b[0m warning: pandas/_libs/algos_take_helper.pxi:3469:4: The 'IF' statement is deprecated and will be removed in a future Cython version. Consider using runtime conditions or C macros instead. See https://github.com/cython/cython/issues/4310\n",
      "  \u001b[31m   \u001b[0m warning: pandas/_libs/algos_take_helper.pxi:3525:4: The 'IF' statement is deprecated and will be removed in a future Cython version. Consider using runtime conditions or C macros instead. See https://github.com/cython/cython/issues/4310\n",
      "  \u001b[31m   \u001b[0m warning: pandas/_libs/algos_take_helper.pxi:3729:4: The 'IF' statement is deprecated and will be removed in a future Cython version. Consider using runtime conditions or C macros instead. See https://github.com/cython/cython/issues/4310\n",
      "  \u001b[31m   \u001b[0m warning: pandas/_libs/algos_take_helper.pxi:3785:4: The 'IF' statement is deprecated and will be removed in a future Cython version. Consider using runtime conditions or C macros instead. See https://github.com/cython/cython/issues/4310\n",
      "  \u001b[31m   \u001b[0m warning: pandas/_libs/algos_take_helper.pxi:3989:4: The 'IF' statement is deprecated and will be removed in a future Cython version. Consider using runtime conditions or C macros instead. See https://github.com/cython/cython/issues/4310\n",
      "  \u001b[31m   \u001b[0m warning: pandas/_libs/algos_take_helper.pxi:4045:4: The 'IF' statement is deprecated and will be removed in a future Cython version. Consider using runtime conditions or C macros instead. See https://github.com/cython/cython/issues/4310\n",
      "  \u001b[31m   \u001b[0m warning: pandas/_libs/algos_take_helper.pxi:4249:4: The 'IF' statement is deprecated and will be removed in a future Cython version. Consider using runtime conditions or C macros instead. See https://github.com/cython/cython/issues/4310\n",
      "  \u001b[31m   \u001b[0m warning: pandas/_libs/algos_take_helper.pxi:4305:4: The 'IF' statement is deprecated and will be removed in a future Cython version. Consider using runtime conditions or C macros instead. See https://github.com/cython/cython/issues/4310\n",
      "  \u001b[31m   \u001b[0m warning: pandas/_libs/algos_take_helper.pxi:4509:4: The 'IF' statement is deprecated and will be removed in a future Cython version. Consider using runtime conditions or C macros instead. See https://github.com/cython/cython/issues/4310\n",
      "  \u001b[31m   \u001b[0m warning: pandas/_libs/algos_take_helper.pxi:4565:4: The 'IF' statement is deprecated and will be removed in a future Cython version. Consider using runtime conditions or C macros instead. See https://github.com/cython/cython/issues/4310\n",
      "  \u001b[31m   \u001b[0m warning: pandas/_libs/algos_take_helper.pxi:4769:4: The 'IF' statement is deprecated and will be removed in a future Cython version. Consider using runtime conditions or C macros instead. See https://github.com/cython/cython/issues/4310\n",
      "  \u001b[31m   \u001b[0m warning: pandas/_libs/algos_take_helper.pxi:4825:4: The 'IF' statement is deprecated and will be removed in a future Cython version. Consider using runtime conditions or C macros instead. See https://github.com/cython/cython/issues/4310\n",
      "  \u001b[31m   \u001b[0m warning: pandas/_libs/algos.pyx:117:42: Unknown type declaration 'bint' in annotation, ignoring\n",
      "  \u001b[31m   \u001b[0m performance hint: pandas/_libs/hashing.pyx:98:5: Exception check on 'u32to8_le' will always require the GIL to be acquired.\n",
      "  \u001b[31m   \u001b[0m Possible solutions:\n",
      "  \u001b[31m   \u001b[0m     1. Declare the function as 'noexcept' if you control the definition and you're sure you don't want the function to raise exceptions.\n",
      "  \u001b[31m   \u001b[0m     2. Use an 'int' return type on the function to allow an error code to be returned.\n",
      "  \u001b[31m   \u001b[0m performance hint: pandas/_libs/hashing.pyx:116:5: Exception check on '_sipround' will always require the GIL to be acquired.\n",
      "  \u001b[31m   \u001b[0m Possible solutions:\n",
      "  \u001b[31m   \u001b[0m     1. Declare the function as 'noexcept' if you control the definition and you're sure you don't want the function to raise exceptions.\n",
      "  \u001b[31m   \u001b[0m     2. Use an 'int' return type on the function to allow an error code to be returned.\n",
      "  \u001b[31m   \u001b[0m performance hint: pandas/_libs/hashing.pyx:160:21: Exception check will always require the GIL to be acquired.\n",
      "  \u001b[31m   \u001b[0m Possible solutions:\n",
      "  \u001b[31m   \u001b[0m     1. Declare the function as 'noexcept' if you control the definition and you're sure you don't want the function to raise exceptions.\n",
      "  \u001b[31m   \u001b[0m     2. Use an 'int' return type on the function to allow an error code to be returned.\n",
      "  \u001b[31m   \u001b[0m performance hint: pandas/_libs/hashing.pyx:171:17: Exception check will always require the GIL to be acquired.\n",
      "  \u001b[31m   \u001b[0m Possible solutions:\n",
      "  \u001b[31m   \u001b[0m     1. Declare the function as 'noexcept' if you control the definition and you're sure you don't want the function to raise exceptions.\n",
      "  \u001b[31m   \u001b[0m     2. Use an 'int' return type on the function to allow an error code to be returned.\n",
      "  \u001b[31m   \u001b[0m performance hint: pandas/_libs/hashing.pyx:177:17: Exception check will always require the GIL to be acquired.\n",
      "  \u001b[31m   \u001b[0m Possible solutions:\n",
      "  \u001b[31m   \u001b[0m     1. Declare the function as 'noexcept' if you control the definition and you're sure you don't want the function to raise exceptions.\n",
      "  \u001b[31m   \u001b[0m     2. Use an 'int' return type on the function to allow an error code to be returned.\n",
      "  \u001b[31m   \u001b[0m performance hint: pandas/_libs/hashtable_class_helper.pxi:19:5: Exception check on 'append_data_float64' will always require the GIL to be acquired.\n",
      "  \u001b[31m   \u001b[0m Possible solutions:\n",
      "  \u001b[31m   \u001b[0m     1. Declare the function as 'noexcept' if you control the definition and you're sure you don't want the function to raise exceptions.\n",
      "  \u001b[31m   \u001b[0m     2. Use an 'int' return type on the function to allow an error code to be returned.\n",
      "  \u001b[31m   \u001b[0m performance hint: pandas/_libs/hashtable_class_helper.pxi:28:5: Exception check on 'append_data_int64' will always require the GIL to be acquired.\n",
      "  \u001b[31m   \u001b[0m Possible solutions:\n",
      "  \u001b[31m   \u001b[0m     1. Declare the function as 'noexcept' if you control the definition and you're sure you don't want the function to raise exceptions.\n",
      "  \u001b[31m   \u001b[0m     2. Use an 'int' return type on the function to allow an error code to be returned.\n",
      "  \u001b[31m   \u001b[0m performance hint: pandas/_libs/hashtable_class_helper.pxi:41:5: Exception check on 'append_data_string' will always require the GIL to be acquired.\n",
      "  \u001b[31m   \u001b[0m Possible solutions:\n",
      "  \u001b[31m   \u001b[0m     1. Declare the function as 'noexcept' if you control the definition and you're sure you don't want the function to raise exceptions.\n",
      "  \u001b[31m   \u001b[0m     2. Use an 'int' return type on the function to allow an error code to be returned.\n",
      "  \u001b[31m   \u001b[0m performance hint: pandas/_libs/hashtable_class_helper.pxi:54:5: Exception check on 'append_data_uint64' will always require the GIL to be acquired.\n",
      "  \u001b[31m   \u001b[0m Possible solutions:\n",
      "  \u001b[31m   \u001b[0m     1. Declare the function as 'noexcept' if you control the definition and you're sure you don't want the function to raise exceptions.\n",
      "  \u001b[31m   \u001b[0m     2. Use an 'int' return type on the function to allow an error code to be returned.\n",
      "  \u001b[31m   \u001b[0m performance hint: pandas/_libs/hashtable_class_helper.pxi:538:39: Exception check will always require the GIL to be acquired.\n",
      "  \u001b[31m   \u001b[0m Possible solutions:\n",
      "  \u001b[31m   \u001b[0m     1. Declare the function as 'noexcept' if you control the definition and you're sure you don't want the function to raise exceptions.\n",
      "  \u001b[31m   \u001b[0m     2. Use an 'int' return type on the function to allow an error code to be returned.\n",
      "  \u001b[31m   \u001b[0m performance hint: pandas/_libs/hashtable_class_helper.pxi:651:39: Exception check will always require the GIL to be acquired.\n",
      "  \u001b[31m   \u001b[0m Possible solutions:\n",
      "  \u001b[31m   \u001b[0m     1. Declare the function as 'noexcept' if you control the definition and you're sure you don't want the function to raise exceptions.\n",
      "  \u001b[31m   \u001b[0m     2. Use an 'int' return type on the function to allow an error code to be returned.\n",
      "  \u001b[31m   \u001b[0m performance hint: pandas/_libs/hashtable_class_helper.pxi:842:38: Exception check will always require the GIL to be acquired.\n",
      "  \u001b[31m   \u001b[0m Possible solutions:\n",
      "  \u001b[31m   \u001b[0m     1. Declare the function as 'noexcept' if you control the definition and you're sure you don't want the function to raise exceptions.\n",
      "  \u001b[31m   \u001b[0m     2. Use an 'int' return type on the function to allow an error code to be returned.\n",
      "  \u001b[31m   \u001b[0m performance hint: pandas/_libs/hashtable_class_helper.pxi:952:38: Exception check will always require the GIL to be acquired.\n",
      "  \u001b[31m   \u001b[0m Possible solutions:\n",
      "  \u001b[31m   \u001b[0m     1. Declare the function as 'noexcept' if you control the definition and you're sure you don't want the function to raise exceptions.\n",
      "  \u001b[31m   \u001b[0m     2. Use an 'int' return type on the function to allow an error code to be returned.\n",
      "  \u001b[31m   \u001b[0m performance hint: pandas/_libs/hashtable_class_helper.pxi:1143:37: Exception check will always require the GIL to be acquired.\n",
      "  \u001b[31m   \u001b[0m Possible solutions:\n",
      "  \u001b[31m   \u001b[0m     1. Declare the function as 'noexcept' if you control the definition and you're sure you don't want the function to raise exceptions.\n",
      "  \u001b[31m   \u001b[0m     2. Use an 'int' return type on the function to allow an error code to be returned.\n",
      "  \u001b[31m   \u001b[0m performance hint: pandas/_libs/hashtable_class_helper.pxi:1256:37: Exception check will always require the GIL to be acquired.\n",
      "  \u001b[31m   \u001b[0m Possible solutions:\n",
      "  \u001b[31m   \u001b[0m     1. Declare the function as 'noexcept' if you control the definition and you're sure you don't want the function to raise exceptions.\n",
      "  \u001b[31m   \u001b[0m     2. Use an 'int' return type on the function to allow an error code to be returned.\n",
      "  \u001b[31m   \u001b[0m performance hint: pandas/_libs/hashtable.pyx:166:33: Exception check will always require the GIL to be acquired.\n",
      "  \u001b[31m   \u001b[0m Possible solutions:\n",
      "  \u001b[31m   \u001b[0m     1. Declare the function as 'noexcept' if you control the definition and you're sure you don't want the function to raise exceptions.\n",
      "  \u001b[31m   \u001b[0m     2. Use an 'int' return type on the function to allow an error code to be returned.\n",
      "  \u001b[31m   \u001b[0m performance hint: pandas/_libs/parsers.pyx:1714:5: Exception check on '_to_fw_string_nogil' will always require the GIL to be acquired.\n",
      "  \u001b[31m   \u001b[0m Possible solutions:\n",
      "  \u001b[31m   \u001b[0m     1. Declare the function as 'noexcept' if you control the definition and you're sure you don't want the function to raise exceptions.\n",
      "  \u001b[31m   \u001b[0m     2. Use an 'int' return type on the function to allow an error code to be returned.\n",
      "  \u001b[31m   \u001b[0m warning: pandas/_libs/parsers.pyx:1764:34: Casting a GIL-requiring function into a nogil function circumvents GIL validation\n",
      "  \u001b[31m   \u001b[0m performance hint: pandas/_libs/parsers.pyx:1709:27: Exception check will always require the GIL to be acquired.\n",
      "  \u001b[31m   \u001b[0m Possible solutions:\n",
      "  \u001b[31m   \u001b[0m     1. Declare the function as 'noexcept' if you control the definition and you're sure you don't want the function to raise exceptions.\n",
      "  \u001b[31m   \u001b[0m     2. Use an 'int' return type on the function to allow an error code to be returned.\n",
      "  \u001b[31m   \u001b[0m performance hint: pandas/_libs/parsers.pyx:1809:42: Exception check will always require the GIL to be acquired. Declare the function as 'noexcept' if you control the definition and you're sure you don't want the function to raise exceptions.\n",
      "  \u001b[31m   \u001b[0m performance hint: pandas/_libs/parsers.pyx:1830:38: Exception check will always require the GIL to be acquired. Declare the function as 'noexcept' if you control the definition and you're sure you don't want the function to raise exceptions.\n",
      "  \u001b[31m   \u001b[0m \n",
      "  \u001b[31m   \u001b[0m Error compiling Cython file:\n",
      "  \u001b[31m   \u001b[0m ------------------------------------------------------------\n",
      "  \u001b[31m   \u001b[0m ...\n",
      "  \u001b[31m   \u001b[0m             object cached_typ=None\n",
      "  \u001b[31m   \u001b[0m \n",
      "  \u001b[31m   \u001b[0m         arr = self.arr\n",
      "  \u001b[31m   \u001b[0m         chunk = self.dummy\n",
      "  \u001b[31m   \u001b[0m         dummy_buf = chunk.data\n",
      "  \u001b[31m   \u001b[0m         chunk.data = arr.data\n",
      "  \u001b[31m   \u001b[0m              ^\n",
      "  \u001b[31m   \u001b[0m ------------------------------------------------------------\n",
      "  \u001b[31m   \u001b[0m \n",
      "  \u001b[31m   \u001b[0m pandas/_libs/reduction.pyx:106:13: Assignment to a read-only property\n",
      "  \u001b[31m   \u001b[0m \n",
      "  \u001b[31m   \u001b[0m Error compiling Cython file:\n",
      "  \u001b[31m   \u001b[0m ------------------------------------------------------------\n",
      "  \u001b[31m   \u001b[0m ...\n",
      "  \u001b[31m   \u001b[0m                                                self.nresults,\n",
      "  \u001b[31m   \u001b[0m                                                len(self.dummy))\n",
      "  \u001b[31m   \u001b[0m                     it = <flatiter>PyArray_IterNew(result)\n",
      "  \u001b[31m   \u001b[0m \n",
      "  \u001b[31m   \u001b[0m                 PyArray_SETITEM(result, PyArray_ITER_DATA(it), res)\n",
      "  \u001b[31m   \u001b[0m                 chunk.data = chunk.data + self.increment\n",
      "  \u001b[31m   \u001b[0m                      ^\n",
      "  \u001b[31m   \u001b[0m ------------------------------------------------------------\n",
      "  \u001b[31m   \u001b[0m \n",
      "  \u001b[31m   \u001b[0m pandas/_libs/reduction.pyx:159:21: Assignment to a read-only property\n",
      "  \u001b[31m   \u001b[0m \n",
      "  \u001b[31m   \u001b[0m Error compiling Cython file:\n",
      "  \u001b[31m   \u001b[0m ------------------------------------------------------------\n",
      "  \u001b[31m   \u001b[0m ...\n",
      "  \u001b[31m   \u001b[0m             if hasattr(e, 'args'):\n",
      "  \u001b[31m   \u001b[0m                 e.args = e.args + (i,)\n",
      "  \u001b[31m   \u001b[0m             raise\n",
      "  \u001b[31m   \u001b[0m         finally:\n",
      "  \u001b[31m   \u001b[0m             # so we don't free the wrong memory\n",
      "  \u001b[31m   \u001b[0m             chunk.data = dummy_buf\n",
      "  \u001b[31m   \u001b[0m                  ^\n",
      "  \u001b[31m   \u001b[0m ------------------------------------------------------------\n",
      "  \u001b[31m   \u001b[0m \n",
      "  \u001b[31m   \u001b[0m pandas/_libs/reduction.pyx:167:17: Assignment to a read-only property\n",
      "  \u001b[31m   \u001b[0m \n",
      "  \u001b[31m   \u001b[0m Error compiling Cython file:\n",
      "  \u001b[31m   \u001b[0m ------------------------------------------------------------\n",
      "  \u001b[31m   \u001b[0m ...\n",
      "  \u001b[31m   \u001b[0m             if hasattr(e, 'args'):\n",
      "  \u001b[31m   \u001b[0m                 e.args = e.args + (i,)\n",
      "  \u001b[31m   \u001b[0m             raise\n",
      "  \u001b[31m   \u001b[0m         finally:\n",
      "  \u001b[31m   \u001b[0m             # so we don't free the wrong memory\n",
      "  \u001b[31m   \u001b[0m             chunk.data = dummy_buf\n",
      "  \u001b[31m   \u001b[0m                  ^\n",
      "  \u001b[31m   \u001b[0m ------------------------------------------------------------\n",
      "  \u001b[31m   \u001b[0m \n",
      "  \u001b[31m   \u001b[0m pandas/_libs/reduction.pyx:167:17: Assignment to a read-only property\n",
      "  \u001b[31m   \u001b[0m \n",
      "  \u001b[31m   \u001b[0m Error compiling Cython file:\n",
      "  \u001b[31m   \u001b[0m ------------------------------------------------------------\n",
      "  \u001b[31m   \u001b[0m ...\n",
      "  \u001b[31m   \u001b[0m \n",
      "  \u001b[31m   \u001b[0m         self.orig_data = self.buf.data\n",
      "  \u001b[31m   \u001b[0m         self.orig_len = self.buf.shape[0]\n",
      "  \u001b[31m   \u001b[0m         self.orig_stride = self.buf.strides[0]\n",
      "  \u001b[31m   \u001b[0m \n",
      "  \u001b[31m   \u001b[0m         self.buf.data = self.values.data\n",
      "  \u001b[31m   \u001b[0m                 ^\n",
      "  \u001b[31m   \u001b[0m ------------------------------------------------------------\n",
      "  \u001b[31m   \u001b[0m \n",
      "  \u001b[31m   \u001b[0m pandas/_libs/reduction.pyx:469:16: Assignment to a read-only property\n",
      "  \u001b[31m   \u001b[0m \n",
      "  \u001b[31m   \u001b[0m Error compiling Cython file:\n",
      "  \u001b[31m   \u001b[0m ------------------------------------------------------------\n",
      "  \u001b[31m   \u001b[0m ...\n",
      "  \u001b[31m   \u001b[0m \n",
      "  \u001b[31m   \u001b[0m         self.buf.data = self.values.data\n",
      "  \u001b[31m   \u001b[0m         self.buf.strides[0] = self.stride\n",
      "  \u001b[31m   \u001b[0m \n",
      "  \u001b[31m   \u001b[0m     cpdef advance(self, Py_ssize_t k):\n",
      "  \u001b[31m   \u001b[0m         self.buf.data = <char*>self.buf.data + self.stride * k\n",
      "  \u001b[31m   \u001b[0m                 ^\n",
      "  \u001b[31m   \u001b[0m ------------------------------------------------------------\n",
      "  \u001b[31m   \u001b[0m \n",
      "  \u001b[31m   \u001b[0m pandas/_libs/reduction.pyx:473:16: Assignment to a read-only property\n",
      "  \u001b[31m   \u001b[0m \n",
      "  \u001b[31m   \u001b[0m Error compiling Cython file:\n",
      "  \u001b[31m   \u001b[0m ------------------------------------------------------------\n",
      "  \u001b[31m   \u001b[0m ...\n",
      "  \u001b[31m   \u001b[0m \n",
      "  \u001b[31m   \u001b[0m     cdef move(self, int start, int end):\n",
      "  \u001b[31m   \u001b[0m         \"\"\"\n",
      "  \u001b[31m   \u001b[0m         For slicing\n",
      "  \u001b[31m   \u001b[0m         \"\"\"\n",
      "  \u001b[31m   \u001b[0m         self.buf.data = self.values.data + self.stride * start\n",
      "  \u001b[31m   \u001b[0m                 ^\n",
      "  \u001b[31m   \u001b[0m ------------------------------------------------------------\n",
      "  \u001b[31m   \u001b[0m \n",
      "  \u001b[31m   \u001b[0m pandas/_libs/reduction.pyx:479:16: Assignment to a read-only property\n",
      "  \u001b[31m   \u001b[0m \n",
      "  \u001b[31m   \u001b[0m Error compiling Cython file:\n",
      "  \u001b[31m   \u001b[0m ------------------------------------------------------------\n",
      "  \u001b[31m   \u001b[0m ...\n",
      "  \u001b[31m   \u001b[0m         self.buf.shape[0] = length\n",
      "  \u001b[31m   \u001b[0m \n",
      "  \u001b[31m   \u001b[0m     cpdef reset(self):\n",
      "  \u001b[31m   \u001b[0m \n",
      "  \u001b[31m   \u001b[0m         self.buf.shape[0] = self.orig_len\n",
      "  \u001b[31m   \u001b[0m         self.buf.data = self.orig_data\n",
      "  \u001b[31m   \u001b[0m                 ^\n",
      "  \u001b[31m   \u001b[0m ------------------------------------------------------------\n",
      "  \u001b[31m   \u001b[0m \n",
      "  \u001b[31m   \u001b[0m pandas/_libs/reduction.pyx:488:16: Assignment to a read-only property\n",
      "  \u001b[31m   \u001b[0m \n",
      "  \u001b[31m   \u001b[0m Error compiling Cython file:\n",
      "  \u001b[31m   \u001b[0m ------------------------------------------------------------\n",
      "  \u001b[31m   \u001b[0m ...\n",
      "  \u001b[31m   \u001b[0m         # move blocks\n",
      "  \u001b[31m   \u001b[0m         for i in range(self.nblocks):\n",
      "  \u001b[31m   \u001b[0m             arr = self.blocks[i]\n",
      "  \u001b[31m   \u001b[0m \n",
      "  \u001b[31m   \u001b[0m             # axis=1 is the frame's axis=0\n",
      "  \u001b[31m   \u001b[0m             arr.data = self.base_ptrs[i] + arr.strides[1] * start\n",
      "  \u001b[31m   \u001b[0m                ^\n",
      "  \u001b[31m   \u001b[0m ------------------------------------------------------------\n",
      "  \u001b[31m   \u001b[0m \n",
      "  \u001b[31m   \u001b[0m pandas/_libs/reduction.pyx:598:15: Assignment to a read-only property\n",
      "  \u001b[31m   \u001b[0m \n",
      "  \u001b[31m   \u001b[0m Error compiling Cython file:\n",
      "  \u001b[31m   \u001b[0m ------------------------------------------------------------\n",
      "  \u001b[31m   \u001b[0m ...\n",
      "  \u001b[31m   \u001b[0m         # reset blocks\n",
      "  \u001b[31m   \u001b[0m         for i in range(self.nblocks):\n",
      "  \u001b[31m   \u001b[0m             arr = self.blocks[i]\n",
      "  \u001b[31m   \u001b[0m \n",
      "  \u001b[31m   \u001b[0m             # axis=1 is the frame's axis=0\n",
      "  \u001b[31m   \u001b[0m             arr.data = self.base_ptrs[i]\n",
      "  \u001b[31m   \u001b[0m                ^\n",
      "  \u001b[31m   \u001b[0m ------------------------------------------------------------\n",
      "  \u001b[31m   \u001b[0m \n",
      "  \u001b[31m   \u001b[0m pandas/_libs/reduction.pyx:616:15: Assignment to a read-only property\n",
      "  \u001b[31m   \u001b[0m Traceback (most recent call last):\n",
      "  \u001b[31m   \u001b[0m   File \"<string>\", line 2, in <module>\n",
      "  \u001b[31m   \u001b[0m   File \"<pip-setuptools-caller>\", line 34, in <module>\n",
      "  \u001b[31m   \u001b[0m   File \"/var/tmp/pip-install-dphqwrv9/pandas_5b43a7107dab46f3991504eaaa2b0846/setup.py\", line 735, in <module>\n",
      "  \u001b[31m   \u001b[0m     ext_modules=maybe_cythonize(extensions, compiler_directives=directives),\n",
      "  \u001b[31m   \u001b[0m   File \"/var/tmp/pip-install-dphqwrv9/pandas_5b43a7107dab46f3991504eaaa2b0846/setup.py\", line 489, in maybe_cythonize\n",
      "  \u001b[31m   \u001b[0m     return cythonize(extensions, *args, **kwargs)\n",
      "  \u001b[31m   \u001b[0m   File \"/opt/conda/lib/python3.10/site-packages/Cython/Build/Dependencies.py\", line 1154, in cythonize\n",
      "  \u001b[31m   \u001b[0m     cythonize_one(*args)\n",
      "  \u001b[31m   \u001b[0m   File \"/opt/conda/lib/python3.10/site-packages/Cython/Build/Dependencies.py\", line 1321, in cythonize_one\n",
      "  \u001b[31m   \u001b[0m     raise CompileError(None, pyx_file)\n",
      "  \u001b[31m   \u001b[0m Cython.Compiler.Errors.CompileError: pandas/_libs/reduction.pyx\n",
      "  \u001b[31m   \u001b[0m Compiling pandas/_libs/algos.pyx because it changed.\n",
      "  \u001b[31m   \u001b[0m Compiling pandas/_libs/groupby.pyx because it changed.\n",
      "  \u001b[31m   \u001b[0m Compiling pandas/_libs/hashing.pyx because it changed.\n",
      "  \u001b[31m   \u001b[0m Compiling pandas/_libs/hashtable.pyx because it changed.\n",
      "  \u001b[31m   \u001b[0m Compiling pandas/_libs/index.pyx because it changed.\n",
      "  \u001b[31m   \u001b[0m Compiling pandas/_libs/indexing.pyx because it changed.\n",
      "  \u001b[31m   \u001b[0m Compiling pandas/_libs/internals.pyx because it changed.\n",
      "  \u001b[31m   \u001b[0m Compiling pandas/_libs/interval.pyx because it changed.\n",
      "  \u001b[31m   \u001b[0m Compiling pandas/_libs/join.pyx because it changed.\n",
      "  \u001b[31m   \u001b[0m Compiling pandas/_libs/lib.pyx because it changed.\n",
      "  \u001b[31m   \u001b[0m Compiling pandas/_libs/missing.pyx because it changed.\n",
      "  \u001b[31m   \u001b[0m Compiling pandas/_libs/parsers.pyx because it changed.\n",
      "  \u001b[31m   \u001b[0m Compiling pandas/_libs/reduction.pyx because it changed.\n",
      "  \u001b[31m   \u001b[0m Compiling pandas/_libs/ops.pyx because it changed.\n",
      "  \u001b[31m   \u001b[0m Compiling pandas/_libs/properties.pyx because it changed.\n",
      "  \u001b[31m   \u001b[0m Compiling pandas/_libs/reshape.pyx because it changed.\n",
      "  \u001b[31m   \u001b[0m Compiling pandas/_libs/skiplist.pyx because it changed.\n",
      "  \u001b[31m   \u001b[0m Compiling pandas/_libs/sparse.pyx because it changed.\n",
      "  \u001b[31m   \u001b[0m Compiling pandas/_libs/tslib.pyx because it changed.\n",
      "  \u001b[31m   \u001b[0m Compiling pandas/_libs/tslibs/ccalendar.pyx because it changed.\n",
      "  \u001b[31m   \u001b[0m Compiling pandas/_libs/tslibs/conversion.pyx because it changed.\n",
      "  \u001b[31m   \u001b[0m Compiling pandas/_libs/tslibs/fields.pyx because it changed.\n",
      "  \u001b[31m   \u001b[0m Compiling pandas/_libs/tslibs/frequencies.pyx because it changed.\n",
      "  \u001b[31m   \u001b[0m Compiling pandas/_libs/tslibs/nattype.pyx because it changed.\n",
      "  \u001b[31m   \u001b[0m Compiling pandas/_libs/tslibs/np_datetime.pyx because it changed.\n",
      "  \u001b[31m   \u001b[0m Compiling pandas/_libs/tslibs/offsets.pyx because it changed.\n",
      "  \u001b[31m   \u001b[0m Compiling pandas/_libs/tslibs/parsing.pyx because it changed.\n",
      "  \u001b[31m   \u001b[0m Compiling pandas/_libs/tslibs/period.pyx because it changed.\n",
      "  \u001b[31m   \u001b[0m Compiling pandas/_libs/tslibs/resolution.pyx because it changed.\n",
      "  \u001b[31m   \u001b[0m Compiling pandas/_libs/tslibs/strptime.pyx because it changed.\n",
      "  \u001b[31m   \u001b[0m Compiling pandas/_libs/tslibs/timedeltas.pyx because it changed.\n",
      "  \u001b[31m   \u001b[0m Compiling pandas/_libs/tslibs/timestamps.pyx because it changed.\n",
      "  \u001b[31m   \u001b[0m Compiling pandas/_libs/tslibs/timezones.pyx because it changed.\n",
      "  \u001b[31m   \u001b[0m Compiling pandas/_libs/testing.pyx because it changed.\n",
      "  \u001b[31m   \u001b[0m Compiling pandas/_libs/window.pyx because it changed.\n",
      "  \u001b[31m   \u001b[0m Compiling pandas/_libs/writers.pyx because it changed.\n",
      "  \u001b[31m   \u001b[0m Compiling pandas/io/sas/sas.pyx because it changed.\n",
      "  \u001b[31m   \u001b[0m Compiling pandas/io/msgpack/_packer.pyx because it changed.\n",
      "  \u001b[31m   \u001b[0m Compiling pandas/io/msgpack/_unpacker.pyx because it changed.\n",
      "  \u001b[31m   \u001b[0m [ 1/39] Cythonizing pandas/_libs/algos.pyx\n",
      "  \u001b[31m   \u001b[0m [ 2/39] Cythonizing pandas/_libs/groupby.pyx\n",
      "  \u001b[31m   \u001b[0m [ 3/39] Cythonizing pandas/_libs/hashing.pyx\n",
      "  \u001b[31m   \u001b[0m [ 4/39] Cythonizing pandas/_libs/hashtable.pyx\n",
      "  \u001b[31m   \u001b[0m [ 5/39] Cythonizing pandas/_libs/index.pyx\n",
      "  \u001b[31m   \u001b[0m [ 6/39] Cythonizing pandas/_libs/indexing.pyx\n",
      "  \u001b[31m   \u001b[0m [ 7/39] Cythonizing pandas/_libs/internals.pyx\n",
      "  \u001b[31m   \u001b[0m [ 8/39] Cythonizing pandas/_libs/interval.pyx\n",
      "  \u001b[31m   \u001b[0m [ 9/39] Cythonizing pandas/_libs/join.pyx\n",
      "  \u001b[31m   \u001b[0m [10/39] Cythonizing pandas/_libs/lib.pyx\n",
      "  \u001b[31m   \u001b[0m [11/39] Cythonizing pandas/_libs/missing.pyx\n",
      "  \u001b[31m   \u001b[0m [12/39] Cythonizing pandas/_libs/ops.pyx\n",
      "  \u001b[31m   \u001b[0m [13/39] Cythonizing pandas/_libs/parsers.pyx\n",
      "  \u001b[31m   \u001b[0m [14/39] Cythonizing pandas/_libs/properties.pyx\n",
      "  \u001b[31m   \u001b[0m [15/39] Cythonizing pandas/_libs/reduction.pyx\n",
      "  \u001b[31m   \u001b[0m \u001b[31m[end of output]\u001b[0m\n",
      "  \n",
      "  \u001b[1;35mnote\u001b[0m: This error originates from a subprocess, and is likely not a problem with pip.\n",
      "\u001b[1;31merror\u001b[0m: \u001b[1mmetadata-generation-failed\u001b[0m\n",
      "\n",
      "\u001b[31m×\u001b[0m Encountered error while generating package metadata.\n",
      "\u001b[31m╰─>\u001b[0m See above for output.\n",
      "\n",
      "\u001b[1;35mnote\u001b[0m: This is an issue with the package mentioned above, not pip.\n",
      "\u001b[1;36mhint\u001b[0m: See above for details.\n",
      "\u001b[33mWARNING: There was an error checking the latest version of pip.\u001b[0m\u001b[33m\n",
      "\u001b[0m\u001b[?25hRequirement already satisfied: google-auth in /opt/conda/lib/python3.10/site-packages (2.25.2)\n",
      "Requirement already satisfied: google-auth-oauthlib in /opt/conda/lib/python3.10/site-packages (1.1.0)\n",
      "Requirement already satisfied: google-auth-httplib2 in /opt/conda/lib/python3.10/site-packages (0.1.1)\n",
      "Requirement already satisfied: cachetools<6.0,>=2.0.0 in /opt/conda/lib/python3.10/site-packages (from google-auth) (5.3.2)\n",
      "Requirement already satisfied: pyasn1-modules>=0.2.1 in /opt/conda/lib/python3.10/site-packages (from google-auth) (0.3.0)\n",
      "Requirement already satisfied: rsa<5,>=3.1.4 in /opt/conda/lib/python3.10/site-packages (from google-auth) (4.9)\n",
      "Requirement already satisfied: requests-oauthlib>=0.7.0 in /opt/conda/lib/python3.10/site-packages (from google-auth-oauthlib) (1.3.1)\n",
      "Requirement already satisfied: httplib2>=0.19.0 in /opt/conda/lib/python3.10/site-packages (from google-auth-httplib2) (0.22.0)\n",
      "Requirement already satisfied: pyparsing!=3.0.0,!=3.0.1,!=3.0.2,!=3.0.3,<4,>=2.4.2 in /opt/conda/lib/python3.10/site-packages (from httplib2>=0.19.0->google-auth-httplib2) (2.4.7)\n",
      "Requirement already satisfied: pyasn1<0.6.0,>=0.4.6 in /opt/conda/lib/python3.10/site-packages (from pyasn1-modules>=0.2.1->google-auth) (0.5.1)\n",
      "Requirement already satisfied: oauthlib>=3.0.0 in /opt/conda/lib/python3.10/site-packages (from requests-oauthlib>=0.7.0->google-auth-oauthlib) (3.2.2)\n",
      "Requirement already satisfied: requests>=2.0.0 in /opt/conda/lib/python3.10/site-packages (from requests-oauthlib>=0.7.0->google-auth-oauthlib) (2.31.0)\n",
      "Requirement already satisfied: charset-normalizer<4,>=2 in /opt/conda/lib/python3.10/site-packages (from requests>=2.0.0->requests-oauthlib>=0.7.0->google-auth-oauthlib) (3.3.2)\n",
      "Requirement already satisfied: idna<4,>=2.5 in /opt/conda/lib/python3.10/site-packages (from requests>=2.0.0->requests-oauthlib>=0.7.0->google-auth-oauthlib) (3.6)\n",
      "Requirement already satisfied: urllib3<3,>=1.21.1 in /opt/conda/lib/python3.10/site-packages (from requests>=2.0.0->requests-oauthlib>=0.7.0->google-auth-oauthlib) (1.26.18)\n",
      "Requirement already satisfied: certifi>=2017.4.17 in /opt/conda/lib/python3.10/site-packages (from requests>=2.0.0->requests-oauthlib>=0.7.0->google-auth-oauthlib) (2023.11.17)\n",
      "\u001b[33mWARNING: There was an error checking the latest version of pip.\u001b[0m\u001b[33m\n",
      "\u001b[0m"
     ]
    }
   ],
   "source": [
    "!pip install google-colab\n",
    "!pip install google-auth google-auth-oauthlib google-auth-httplib2"
   ]
  },
  {
   "cell_type": "code",
   "execution_count": 76,
   "metadata": {
    "id": "96yc8KcmQv7-",
    "tags": []
   },
   "outputs": [],
   "source": [
    "PROJECT_ID = \"platformwenda-1571901528109\"\n",
    "BUCKET_NAME = \"gs://customtraining88\"\n",
    "REGION = \"us-central1\"\n",
    "SERVICE_ACCOUNT = \"vgm-test@platformwenda-1571901528109.iam.gserviceaccount.com\""
   ]
  },
  {
   "cell_type": "code",
   "execution_count": 40,
   "metadata": {
    "colab": {
     "base_uri": "https://localhost:8080/"
    },
    "id": "e5-xXIchQhEq",
    "outputId": "7d36a60a-b395-4d8e-d74d-8214100dae63",
    "tags": []
   },
   "outputs": [],
   "source": [
    "#!gcloud auth login"
   ]
  },
  {
   "cell_type": "code",
   "execution_count": 41,
   "metadata": {
    "id": "qG0hN07mQfw0",
    "tags": []
   },
   "outputs": [],
   "source": [
    "#from google.colab import auth\n",
    "\n",
    "#auth.authenticate_user()\n"
   ]
  },
  {
   "cell_type": "code",
   "execution_count": 42,
   "metadata": {
    "id": "a6b56b1c7b76",
    "tags": []
   },
   "outputs": [],
   "source": [
    "# Copyright 2021 Google LLC\n",
    "#\n",
    "# Licensed under the Apache License, Version 2.0 (the \"License\");\n",
    "# you may not use this file except in compliance with the License.\n",
    "# You may obtain a copy of the License at\n",
    "#\n",
    "#     https://www.apache.org/licenses/LICENSE-2.0\n",
    "#\n",
    "# Unless required by applicable law or agreed to in writing, software\n",
    "# distributed under the License is distributed on an \"AS IS\" BASIS,\n",
    "# WITHOUT WARRANTIES OR CONDITIONS OF ANY KIND, either express or implied.\n",
    "# See the License for the specific language governing permissions and\n",
    "# limitations under the License."
   ]
  },
  {
   "cell_type": "markdown",
   "metadata": {
    "id": "d229c51d7335"
   },
   "source": [
    "# PyTorch document AI Model Single GPU using Vertex Training with Custom Container"
   ]
  },
  {
   "cell_type": "markdown",
   "metadata": {
    "id": "08b6ccb2de0f"
   },
   "source": [
    "<table align=\"left\">\n",
    "  <td>\n",
    "    <a href=\"https://github.com/GoogleCloudPlatform/vertex-ai-samples/blob/master/community-content/pytorch_image_classification_single_gpu_with_vertex_sdk_and_torchserve/vertex_training_with_custom_container.ipynb\">\n",
    "      <img src=\"https://cloud.google.com/ml-engine/images/github-logo-32px.png\" alt=\"GitHub logo\">\n",
    "      View on GitHub\n",
    "    </a>\n",
    "  </td>\n",
    "</table>"
   ]
  },
  {
   "cell_type": "markdown",
   "metadata": {
    "id": "03d216c7f7b1"
   },
   "source": [
    "## Setup"
   ]
  },
  {
   "cell_type": "code",
   "execution_count": 77,
   "metadata": {
    "id": "c5ac73516218",
    "tags": []
   },
   "outputs": [],
   "source": [
    "PROJECT_ID = \"platformwenda-1571901528109\"\n",
    "BUCKET_NAME = \"gs://customtraining88\"\n",
    "REGION = \"us-central1\"\n",
    "SERVICE_ACCOUNT = \"vgm-test@platformwenda-1571901528109.iam.gserviceaccount.com\"\n",
    "content_name = \"documentaicontainer1.0\""
   ]
  },
  {
   "cell_type": "markdown",
   "metadata": {
    "id": "ed102448ae75"
   },
   "source": [
    "## Local Training"
   ]
  },
  {
   "cell_type": "code",
   "execution_count": 78,
   "metadata": {
    "id": "47dfe4e1dfe6",
    "tags": []
   },
   "outputs": [
    {
     "name": "stdout",
     "output_type": "stream",
     "text": [
      "test  train\n"
     ]
    }
   ],
   "source": [
    "! ls trainer"
   ]
  },
  {
   "cell_type": "code",
   "execution_count": 79,
   "metadata": {
    "id": "be6fcb587414",
    "tags": []
   },
   "outputs": [
    {
     "name": "stdout",
     "output_type": "stream",
     "text": [
      "pip==23.1.2\n",
      "accelerate==0.21.0\n",
      "git+https://github.com/huggingface/transformers.git\n",
      "datasets==2.16.1\n",
      "pandas\n",
      "typing-extensions==4.3.0\n",
      "shapely\n",
      "scikit-image\n",
      "imgaug\n",
      "pyclipper\n",
      "lmdb\n",
      "tqdm\n",
      "numpy\n",
      "visualdl\n",
      "rapidfuzz\n",
      "opencv-python==4.6.0.66\n",
      "opencv-contrib-python==4.6.0.66\n",
      "cython\n",
      "lxml\n",
      "premailer\n",
      "openpyxl\n",
      "attrdict\n",
      "Polygon3\n",
      "lanms-neo==1.0.2\n",
      "PyMuPDF<1.21.0\n",
      "PyYAML==6.0\n",
      "fpdf==1.7.2\n",
      "pdfkit==1.0.0\n",
      "wkhtmltopdf==0.2\n",
      "extract-msg==0.39.0\n",
      "msgpack==1.0.4\n",
      "pytesseract==0.3.9\n",
      "seqeval==1.2.2\n",
      "pdf2image==1.16.0\n",
      "lxml==4.9.1\n",
      "opencv-python-headless==4.6.0.66\n",
      "google-cloud-vision==3.4.4\n",
      "torch\n",
      "torchvision\n",
      "tabulate\n",
      "bs4\n",
      "imgkit\n",
      "google-cloud-storage"
     ]
    }
   ],
   "source": [
    "! cat requirements.txt"
   ]
  },
  {
   "cell_type": "code",
   "execution_count": 80,
   "metadata": {
    "id": "060178a8ad71",
    "tags": []
   },
   "outputs": [
    {
     "name": "stdout",
     "output_type": "stream",
     "text": [
      "Collecting git+https://github.com/huggingface/transformers.git (from -r requirements.txt (line 3))\n",
      "  Cloning https://github.com/huggingface/transformers.git to /var/tmp/pip-req-build-jgoafar2\n",
      "  Running command git clone --filter=blob:none --quiet https://github.com/huggingface/transformers.git /var/tmp/pip-req-build-jgoafar2\n",
      "  Resolved https://github.com/huggingface/transformers.git to commit 3f69f415adcbdaedec154ba8eac220ef3276975d\n",
      "  Installing build dependencies ... \u001b[?25ldone\n",
      "\u001b[?25h  Getting requirements to build wheel ... \u001b[?25ldone\n",
      "\u001b[?25h  Preparing metadata (pyproject.toml) ... \u001b[?25ldone\n",
      "\u001b[?25hRequirement already satisfied: pip==23.1.2 in /opt/conda/lib/python3.10/site-packages (from -r requirements.txt (line 1)) (23.1.2)\n",
      "Requirement already satisfied: accelerate==0.21.0 in /opt/conda/lib/python3.10/site-packages (from -r requirements.txt (line 2)) (0.21.0)\n",
      "Requirement already satisfied: datasets==2.16.1 in /opt/conda/lib/python3.10/site-packages (from -r requirements.txt (line 4)) (2.16.1)\n",
      "Requirement already satisfied: pandas in /opt/conda/lib/python3.10/site-packages (from -r requirements.txt (line 5)) (1.5.3)\n",
      "Requirement already satisfied: typing-extensions==4.3.0 in /opt/conda/lib/python3.10/site-packages (from -r requirements.txt (line 6)) (4.3.0)\n",
      "Requirement already satisfied: shapely in /opt/conda/lib/python3.10/site-packages (from -r requirements.txt (line 7)) (2.0.2)\n",
      "Requirement already satisfied: scikit-image in /opt/conda/lib/python3.10/site-packages (from -r requirements.txt (line 8)) (0.22.0)\n",
      "Requirement already satisfied: imgaug in /opt/conda/lib/python3.10/site-packages (from -r requirements.txt (line 9)) (0.4.0)\n",
      "Requirement already satisfied: pyclipper in /opt/conda/lib/python3.10/site-packages (from -r requirements.txt (line 10)) (1.3.0.post5)\n",
      "Requirement already satisfied: lmdb in /opt/conda/lib/python3.10/site-packages (from -r requirements.txt (line 11)) (1.4.1)\n",
      "Requirement already satisfied: tqdm in /opt/conda/lib/python3.10/site-packages (from -r requirements.txt (line 12)) (4.66.1)\n",
      "Requirement already satisfied: numpy in /opt/conda/lib/python3.10/site-packages (from -r requirements.txt (line 13)) (1.25.2)\n",
      "Requirement already satisfied: visualdl in /opt/conda/lib/python3.10/site-packages (from -r requirements.txt (line 14)) (2.5.3)\n",
      "Requirement already satisfied: rapidfuzz in /opt/conda/lib/python3.10/site-packages (from -r requirements.txt (line 15)) (3.6.1)\n",
      "Requirement already satisfied: opencv-python==4.6.0.66 in /opt/conda/lib/python3.10/site-packages (from -r requirements.txt (line 16)) (4.6.0.66)\n",
      "Requirement already satisfied: opencv-contrib-python==4.6.0.66 in /opt/conda/lib/python3.10/site-packages (from -r requirements.txt (line 17)) (4.6.0.66)\n",
      "Requirement already satisfied: cython in /opt/conda/lib/python3.10/site-packages (from -r requirements.txt (line 18)) (3.0.6)\n",
      "Requirement already satisfied: lxml in /opt/conda/lib/python3.10/site-packages (from -r requirements.txt (line 19)) (4.9.1)\n",
      "Requirement already satisfied: premailer in /opt/conda/lib/python3.10/site-packages (from -r requirements.txt (line 20)) (3.10.0)\n",
      "Requirement already satisfied: openpyxl in /opt/conda/lib/python3.10/site-packages (from -r requirements.txt (line 21)) (3.1.2)\n",
      "Requirement already satisfied: attrdict in /opt/conda/lib/python3.10/site-packages (from -r requirements.txt (line 22)) (2.0.1)\n",
      "Requirement already satisfied: Polygon3 in /opt/conda/lib/python3.10/site-packages (from -r requirements.txt (line 23)) (3.0.9.1)\n",
      "Requirement already satisfied: lanms-neo==1.0.2 in /opt/conda/lib/python3.10/site-packages (from -r requirements.txt (line 24)) (1.0.2)\n",
      "Requirement already satisfied: PyMuPDF<1.21.0 in /opt/conda/lib/python3.10/site-packages (from -r requirements.txt (line 25)) (1.20.2)\n",
      "Requirement already satisfied: PyYAML==6.0 in /opt/conda/lib/python3.10/site-packages (from -r requirements.txt (line 26)) (6.0)\n",
      "Requirement already satisfied: fpdf==1.7.2 in /opt/conda/lib/python3.10/site-packages (from -r requirements.txt (line 27)) (1.7.2)\n",
      "Requirement already satisfied: pdfkit==1.0.0 in /opt/conda/lib/python3.10/site-packages (from -r requirements.txt (line 28)) (1.0.0)\n",
      "Requirement already satisfied: wkhtmltopdf==0.2 in /opt/conda/lib/python3.10/site-packages (from -r requirements.txt (line 29)) (0.2)\n",
      "Requirement already satisfied: extract-msg==0.39.0 in /opt/conda/lib/python3.10/site-packages (from -r requirements.txt (line 30)) (0.39.0)\n",
      "Requirement already satisfied: msgpack==1.0.4 in /opt/conda/lib/python3.10/site-packages (from -r requirements.txt (line 31)) (1.0.4)\n",
      "Requirement already satisfied: pytesseract==0.3.9 in /opt/conda/lib/python3.10/site-packages (from -r requirements.txt (line 32)) (0.3.9)\n",
      "Requirement already satisfied: seqeval==1.2.2 in /opt/conda/lib/python3.10/site-packages (from -r requirements.txt (line 33)) (1.2.2)\n",
      "Requirement already satisfied: pdf2image==1.16.0 in /opt/conda/lib/python3.10/site-packages (from -r requirements.txt (line 34)) (1.16.0)\n",
      "Requirement already satisfied: opencv-python-headless==4.6.0.66 in /opt/conda/lib/python3.10/site-packages (from -r requirements.txt (line 36)) (4.6.0.66)\n",
      "Requirement already satisfied: google-cloud-vision==3.4.4 in /opt/conda/lib/python3.10/site-packages (from -r requirements.txt (line 37)) (3.4.4)\n",
      "Requirement already satisfied: torch in /opt/conda/lib/python3.10/site-packages (from -r requirements.txt (line 38)) (2.0.0+cu118)\n",
      "Requirement already satisfied: torchvision in /opt/conda/lib/python3.10/site-packages (from -r requirements.txt (line 39)) (0.15.1+cu118)\n",
      "Requirement already satisfied: tabulate in /opt/conda/lib/python3.10/site-packages (from -r requirements.txt (line 40)) (0.9.0)\n",
      "Requirement already satisfied: bs4 in /opt/conda/lib/python3.10/site-packages (from -r requirements.txt (line 41)) (0.0.1)\n",
      "Requirement already satisfied: imgkit in /opt/conda/lib/python3.10/site-packages (from -r requirements.txt (line 42)) (1.2.3)\n",
      "Requirement already satisfied: google-cloud-storage in /opt/conda/lib/python3.10/site-packages (from -r requirements.txt (line 43)) (2.13.0)\n",
      "Requirement already satisfied: packaging>=20.0 in /opt/conda/lib/python3.10/site-packages (from accelerate==0.21.0->-r requirements.txt (line 2)) (23.2)\n",
      "Requirement already satisfied: psutil in /opt/conda/lib/python3.10/site-packages (from accelerate==0.21.0->-r requirements.txt (line 2)) (5.9.3)\n",
      "Requirement already satisfied: filelock in /opt/conda/lib/python3.10/site-packages (from datasets==2.16.1->-r requirements.txt (line 4)) (3.13.1)\n",
      "Requirement already satisfied: pyarrow>=8.0.0 in /opt/conda/lib/python3.10/site-packages (from datasets==2.16.1->-r requirements.txt (line 4)) (14.0.1)\n",
      "Requirement already satisfied: pyarrow-hotfix in /opt/conda/lib/python3.10/site-packages (from datasets==2.16.1->-r requirements.txt (line 4)) (0.6)\n",
      "Requirement already satisfied: dill<0.3.8,>=0.3.0 in /opt/conda/lib/python3.10/site-packages (from datasets==2.16.1->-r requirements.txt (line 4)) (0.3.4)\n",
      "Requirement already satisfied: requests>=2.19.0 in /opt/conda/lib/python3.10/site-packages (from datasets==2.16.1->-r requirements.txt (line 4)) (2.31.0)\n",
      "Requirement already satisfied: xxhash in /opt/conda/lib/python3.10/site-packages (from datasets==2.16.1->-r requirements.txt (line 4)) (3.4.1)\n",
      "Requirement already satisfied: multiprocess in /opt/conda/lib/python3.10/site-packages (from datasets==2.16.1->-r requirements.txt (line 4)) (0.70.12.2)\n",
      "Requirement already satisfied: fsspec[http]<=2023.10.0,>=2023.1.0 in /opt/conda/lib/python3.10/site-packages (from datasets==2.16.1->-r requirements.txt (line 4)) (2023.10.0)\n",
      "Requirement already satisfied: aiohttp in /opt/conda/lib/python3.10/site-packages (from datasets==2.16.1->-r requirements.txt (line 4)) (3.9.1)\n",
      "Requirement already satisfied: huggingface-hub>=0.19.4 in /opt/conda/lib/python3.10/site-packages (from datasets==2.16.1->-r requirements.txt (line 4)) (0.20.2)\n",
      "Requirement already satisfied: imapclient<3,>=2.3.0 in /opt/conda/lib/python3.10/site-packages (from extract-msg==0.39.0->-r requirements.txt (line 30)) (2.3.1)\n",
      "Requirement already satisfied: olefile==0.46 in /opt/conda/lib/python3.10/site-packages (from extract-msg==0.39.0->-r requirements.txt (line 30)) (0.46)\n",
      "Requirement already satisfied: tzlocal==4.2 in /opt/conda/lib/python3.10/site-packages (from extract-msg==0.39.0->-r requirements.txt (line 30)) (4.2)\n",
      "Requirement already satisfied: compressed-rtf==1.0.6 in /opt/conda/lib/python3.10/site-packages (from extract-msg==0.39.0->-r requirements.txt (line 30)) (1.0.6)\n",
      "Requirement already satisfied: ebcdic==1.1.1 in /opt/conda/lib/python3.10/site-packages (from extract-msg==0.39.0->-r requirements.txt (line 30)) (1.1.1)\n",
      "Requirement already satisfied: beautifulsoup4<4.12,>=4.11.1 in /opt/conda/lib/python3.10/site-packages (from extract-msg==0.39.0->-r requirements.txt (line 30)) (4.11.2)\n",
      "Requirement already satisfied: RTFDE==0.0.2 in /opt/conda/lib/python3.10/site-packages (from extract-msg==0.39.0->-r requirements.txt (line 30)) (0.0.2)\n",
      "Requirement already satisfied: chardet<6,>=4.0.0 in /opt/conda/lib/python3.10/site-packages (from extract-msg==0.39.0->-r requirements.txt (line 30)) (5.2.0)\n",
      "Requirement already satisfied: red-black-tree-mod==1.20 in /opt/conda/lib/python3.10/site-packages (from extract-msg==0.39.0->-r requirements.txt (line 30)) (1.20)\n",
      "Requirement already satisfied: Pillow>=8.0.0 in /opt/conda/lib/python3.10/site-packages (from pytesseract==0.3.9->-r requirements.txt (line 32)) (10.1.0)\n",
      "Requirement already satisfied: scikit-learn>=0.21.3 in /opt/conda/lib/python3.10/site-packages (from seqeval==1.2.2->-r requirements.txt (line 33)) (1.3.2)\n",
      "Requirement already satisfied: google-api-core[grpc]!=2.0.*,!=2.1.*,!=2.10.*,!=2.2.*,!=2.3.*,!=2.4.*,!=2.5.*,!=2.6.*,!=2.7.*,!=2.8.*,!=2.9.*,<3.0.0dev,>=1.34.0 in /opt/conda/lib/python3.10/site-packages (from google-cloud-vision==3.4.4->-r requirements.txt (line 37)) (1.34.0)\n",
      "Requirement already satisfied: proto-plus<2.0.0dev,>=1.22.0 in /opt/conda/lib/python3.10/site-packages (from google-cloud-vision==3.4.4->-r requirements.txt (line 37)) (1.23.0)\n",
      "Requirement already satisfied: protobuf!=3.20.0,!=3.20.1,!=4.21.0,!=4.21.1,!=4.21.2,!=4.21.3,!=4.21.4,!=4.21.5,<5.0.0dev,>=3.19.5 in /opt/conda/lib/python3.10/site-packages (from google-cloud-vision==3.4.4->-r requirements.txt (line 37)) (3.20.3)\n",
      "Requirement already satisfied: lark-parser>=0.11 in /opt/conda/lib/python3.10/site-packages (from RTFDE==0.0.2->extract-msg==0.39.0->-r requirements.txt (line 30)) (0.12.0)\n",
      "Requirement already satisfied: oletools>=0.56 in /opt/conda/lib/python3.10/site-packages (from RTFDE==0.0.2->extract-msg==0.39.0->-r requirements.txt (line 30)) (0.60.1)\n",
      "Requirement already satisfied: pytz-deprecation-shim in /opt/conda/lib/python3.10/site-packages (from tzlocal==4.2->extract-msg==0.39.0->-r requirements.txt (line 30)) (0.1.0.post0)\n",
      "Requirement already satisfied: regex!=2019.12.17 in /opt/conda/lib/python3.10/site-packages (from transformers==4.38.0.dev0->-r requirements.txt (line 3)) (2023.12.25)\n",
      "Requirement already satisfied: tokenizers<0.19,>=0.14 in /opt/conda/lib/python3.10/site-packages (from transformers==4.38.0.dev0->-r requirements.txt (line 3)) (0.15.0)\n",
      "Requirement already satisfied: safetensors>=0.3.1 in /opt/conda/lib/python3.10/site-packages (from transformers==4.38.0.dev0->-r requirements.txt (line 3)) (0.4.1)\n",
      "Requirement already satisfied: python-dateutil>=2.8.1 in /opt/conda/lib/python3.10/site-packages (from pandas->-r requirements.txt (line 5)) (2.8.2)\n",
      "Requirement already satisfied: pytz>=2020.1 in /opt/conda/lib/python3.10/site-packages (from pandas->-r requirements.txt (line 5)) (2023.3.post1)\n",
      "Requirement already satisfied: scipy>=1.8 in /opt/conda/lib/python3.10/site-packages (from scikit-image->-r requirements.txt (line 8)) (1.11.4)\n",
      "Requirement already satisfied: networkx>=2.8 in /opt/conda/lib/python3.10/site-packages (from scikit-image->-r requirements.txt (line 8)) (3.2.1)\n",
      "Requirement already satisfied: imageio>=2.27 in /opt/conda/lib/python3.10/site-packages (from scikit-image->-r requirements.txt (line 8)) (2.33.0)\n",
      "Requirement already satisfied: tifffile>=2022.8.12 in /opt/conda/lib/python3.10/site-packages (from scikit-image->-r requirements.txt (line 8)) (2023.12.9)\n",
      "Requirement already satisfied: lazy_loader>=0.3 in /opt/conda/lib/python3.10/site-packages (from scikit-image->-r requirements.txt (line 8)) (0.3)\n",
      "Requirement already satisfied: six in /opt/conda/lib/python3.10/site-packages (from imgaug->-r requirements.txt (line 9)) (1.16.0)\n",
      "Requirement already satisfied: matplotlib in /opt/conda/lib/python3.10/site-packages (from imgaug->-r requirements.txt (line 9)) (3.7.3)\n",
      "Requirement already satisfied: bce-python-sdk in /opt/conda/lib/python3.10/site-packages (from visualdl->-r requirements.txt (line 14)) (0.9.2)\n",
      "Requirement already satisfied: flask>=1.1.1 in /opt/conda/lib/python3.10/site-packages (from visualdl->-r requirements.txt (line 14)) (3.0.0)\n",
      "Requirement already satisfied: Flask-Babel>=3.0.0 in /opt/conda/lib/python3.10/site-packages (from visualdl->-r requirements.txt (line 14)) (4.0.0)\n",
      "Requirement already satisfied: rarfile in /opt/conda/lib/python3.10/site-packages (from visualdl->-r requirements.txt (line 14)) (4.1)\n",
      "Requirement already satisfied: cssselect in /opt/conda/lib/python3.10/site-packages (from premailer->-r requirements.txt (line 20)) (1.2.0)\n",
      "Requirement already satisfied: cssutils in /opt/conda/lib/python3.10/site-packages (from premailer->-r requirements.txt (line 20)) (2.9.0)\n",
      "Requirement already satisfied: cachetools in /opt/conda/lib/python3.10/site-packages (from premailer->-r requirements.txt (line 20)) (5.3.2)\n",
      "Requirement already satisfied: et-xmlfile in /opt/conda/lib/python3.10/site-packages (from openpyxl->-r requirements.txt (line 21)) (1.1.0)\n",
      "Requirement already satisfied: sympy in /opt/conda/lib/python3.10/site-packages (from torch->-r requirements.txt (line 38)) (1.12)\n",
      "Requirement already satisfied: jinja2 in /opt/conda/lib/python3.10/site-packages (from torch->-r requirements.txt (line 38)) (3.1.2)\n",
      "Requirement already satisfied: triton==2.0.0 in /opt/conda/lib/python3.10/site-packages (from torch->-r requirements.txt (line 38)) (2.0.0)\n",
      "Requirement already satisfied: cmake in /opt/conda/lib/python3.10/site-packages (from triton==2.0.0->torch->-r requirements.txt (line 38)) (3.27.9)\n",
      "Requirement already satisfied: lit in /opt/conda/lib/python3.10/site-packages (from triton==2.0.0->torch->-r requirements.txt (line 38)) (17.0.6)\n",
      "Requirement already satisfied: google-auth<3.0dev,>=2.23.3 in /opt/conda/lib/python3.10/site-packages (from google-cloud-storage->-r requirements.txt (line 43)) (2.25.2)\n",
      "Requirement already satisfied: google-cloud-core<3.0dev,>=2.3.0 in /opt/conda/lib/python3.10/site-packages (from google-cloud-storage->-r requirements.txt (line 43)) (2.4.1)\n",
      "Requirement already satisfied: google-resumable-media>=2.6.0 in /opt/conda/lib/python3.10/site-packages (from google-cloud-storage->-r requirements.txt (line 43)) (2.6.0)\n",
      "Requirement already satisfied: google-crc32c<2.0dev,>=1.0 in /opt/conda/lib/python3.10/site-packages (from google-cloud-storage->-r requirements.txt (line 43)) (1.5.0)\n",
      "Requirement already satisfied: soupsieve>1.2 in /opt/conda/lib/python3.10/site-packages (from beautifulsoup4<4.12,>=4.11.1->extract-msg==0.39.0->-r requirements.txt (line 30)) (2.5)\n",
      "Requirement already satisfied: Werkzeug>=3.0.0 in /opt/conda/lib/python3.10/site-packages (from flask>=1.1.1->visualdl->-r requirements.txt (line 14)) (3.0.1)\n",
      "Requirement already satisfied: itsdangerous>=2.1.2 in /opt/conda/lib/python3.10/site-packages (from flask>=1.1.1->visualdl->-r requirements.txt (line 14)) (2.1.2)\n",
      "Requirement already satisfied: click>=8.1.3 in /opt/conda/lib/python3.10/site-packages (from flask>=1.1.1->visualdl->-r requirements.txt (line 14)) (8.1.7)\n",
      "Requirement already satisfied: blinker>=1.6.2 in /opt/conda/lib/python3.10/site-packages (from flask>=1.1.1->visualdl->-r requirements.txt (line 14)) (1.7.0)\n",
      "Requirement already satisfied: Babel>=2.12 in /opt/conda/lib/python3.10/site-packages (from Flask-Babel>=3.0.0->visualdl->-r requirements.txt (line 14)) (2.13.1)\n",
      "Requirement already satisfied: attrs>=17.3.0 in /opt/conda/lib/python3.10/site-packages (from aiohttp->datasets==2.16.1->-r requirements.txt (line 4)) (23.1.0)\n",
      "Requirement already satisfied: multidict<7.0,>=4.5 in /opt/conda/lib/python3.10/site-packages (from aiohttp->datasets==2.16.1->-r requirements.txt (line 4)) (6.0.4)\n",
      "Requirement already satisfied: yarl<2.0,>=1.0 in /opt/conda/lib/python3.10/site-packages (from aiohttp->datasets==2.16.1->-r requirements.txt (line 4)) (1.9.4)\n",
      "Requirement already satisfied: frozenlist>=1.1.1 in /opt/conda/lib/python3.10/site-packages (from aiohttp->datasets==2.16.1->-r requirements.txt (line 4)) (1.4.0)\n",
      "Requirement already satisfied: aiosignal>=1.1.2 in /opt/conda/lib/python3.10/site-packages (from aiohttp->datasets==2.16.1->-r requirements.txt (line 4)) (1.3.1)\n",
      "Requirement already satisfied: async-timeout<5.0,>=4.0 in /opt/conda/lib/python3.10/site-packages (from aiohttp->datasets==2.16.1->-r requirements.txt (line 4)) (4.0.3)\n",
      "Requirement already satisfied: googleapis-common-protos<2.0dev,>=1.56.2 in /opt/conda/lib/python3.10/site-packages (from google-api-core[grpc]!=2.0.*,!=2.1.*,!=2.10.*,!=2.2.*,!=2.3.*,!=2.4.*,!=2.5.*,!=2.6.*,!=2.7.*,!=2.8.*,!=2.9.*,<3.0.0dev,>=1.34.0->google-cloud-vision==3.4.4->-r requirements.txt (line 37)) (1.62.0)\n",
      "Requirement already satisfied: grpcio<2.0dev,>=1.33.2 in /opt/conda/lib/python3.10/site-packages (from google-api-core[grpc]!=2.0.*,!=2.1.*,!=2.10.*,!=2.2.*,!=2.3.*,!=2.4.*,!=2.5.*,!=2.6.*,!=2.7.*,!=2.8.*,!=2.9.*,<3.0.0dev,>=1.34.0->google-cloud-vision==3.4.4->-r requirements.txt (line 37)) (1.60.0)\n",
      "Requirement already satisfied: grpcio-status<2.0dev,>=1.33.2 in /opt/conda/lib/python3.10/site-packages (from google-api-core[grpc]!=2.0.*,!=2.1.*,!=2.10.*,!=2.2.*,!=2.3.*,!=2.4.*,!=2.5.*,!=2.6.*,!=2.7.*,!=2.8.*,!=2.9.*,<3.0.0dev,>=1.34.0->google-cloud-vision==3.4.4->-r requirements.txt (line 37)) (1.48.2)\n",
      "Requirement already satisfied: pyasn1-modules>=0.2.1 in /opt/conda/lib/python3.10/site-packages (from google-auth<3.0dev,>=2.23.3->google-cloud-storage->-r requirements.txt (line 43)) (0.3.0)\n",
      "Requirement already satisfied: rsa<5,>=3.1.4 in /opt/conda/lib/python3.10/site-packages (from google-auth<3.0dev,>=2.23.3->google-cloud-storage->-r requirements.txt (line 43)) (4.9)\n",
      "Requirement already satisfied: MarkupSafe>=2.0 in /opt/conda/lib/python3.10/site-packages (from jinja2->torch->-r requirements.txt (line 38)) (2.1.3)\n",
      "Requirement already satisfied: charset-normalizer<4,>=2 in /opt/conda/lib/python3.10/site-packages (from requests>=2.19.0->datasets==2.16.1->-r requirements.txt (line 4)) (3.3.2)\n",
      "Requirement already satisfied: idna<4,>=2.5 in /opt/conda/lib/python3.10/site-packages (from requests>=2.19.0->datasets==2.16.1->-r requirements.txt (line 4)) (3.6)\n",
      "Requirement already satisfied: urllib3<3,>=1.21.1 in /opt/conda/lib/python3.10/site-packages (from requests>=2.19.0->datasets==2.16.1->-r requirements.txt (line 4)) (1.26.18)\n",
      "Requirement already satisfied: certifi>=2017.4.17 in /opt/conda/lib/python3.10/site-packages (from requests>=2.19.0->datasets==2.16.1->-r requirements.txt (line 4)) (2023.11.17)\n",
      "Requirement already satisfied: joblib>=1.1.1 in /opt/conda/lib/python3.10/site-packages (from scikit-learn>=0.21.3->seqeval==1.2.2->-r requirements.txt (line 33)) (1.3.2)\n",
      "Requirement already satisfied: threadpoolctl>=2.0.0 in /opt/conda/lib/python3.10/site-packages (from scikit-learn>=0.21.3->seqeval==1.2.2->-r requirements.txt (line 33)) (3.2.0)\n",
      "Requirement already satisfied: pycryptodome>=3.8.0 in /opt/conda/lib/python3.10/site-packages (from bce-python-sdk->visualdl->-r requirements.txt (line 14)) (3.20.0)\n",
      "Requirement already satisfied: future>=0.6.0 in /opt/conda/lib/python3.10/site-packages (from bce-python-sdk->visualdl->-r requirements.txt (line 14)) (0.18.3)\n",
      "Requirement already satisfied: contourpy>=1.0.1 in /opt/conda/lib/python3.10/site-packages (from matplotlib->imgaug->-r requirements.txt (line 9)) (1.2.0)\n",
      "Requirement already satisfied: cycler>=0.10 in /opt/conda/lib/python3.10/site-packages (from matplotlib->imgaug->-r requirements.txt (line 9)) (0.12.1)\n",
      "Requirement already satisfied: fonttools>=4.22.0 in /opt/conda/lib/python3.10/site-packages (from matplotlib->imgaug->-r requirements.txt (line 9)) (4.46.0)\n",
      "Requirement already satisfied: kiwisolver>=1.0.1 in /opt/conda/lib/python3.10/site-packages (from matplotlib->imgaug->-r requirements.txt (line 9)) (1.4.5)\n",
      "Requirement already satisfied: pyparsing>=2.3.1 in /opt/conda/lib/python3.10/site-packages (from matplotlib->imgaug->-r requirements.txt (line 9)) (2.4.7)\n",
      "Requirement already satisfied: mpmath>=0.19 in /opt/conda/lib/python3.10/site-packages (from sympy->torch->-r requirements.txt (line 38)) (1.3.0)\n",
      "Requirement already satisfied: easygui in /opt/conda/lib/python3.10/site-packages (from oletools>=0.56->RTFDE==0.0.2->extract-msg==0.39.0->-r requirements.txt (line 30)) (0.98.3)\n",
      "Requirement already satisfied: colorclass in /opt/conda/lib/python3.10/site-packages (from oletools>=0.56->RTFDE==0.0.2->extract-msg==0.39.0->-r requirements.txt (line 30)) (2.2.2)\n",
      "Requirement already satisfied: pcodedmp>=1.2.5 in /opt/conda/lib/python3.10/site-packages (from oletools>=0.56->RTFDE==0.0.2->extract-msg==0.39.0->-r requirements.txt (line 30)) (1.2.6)\n",
      "Requirement already satisfied: msoffcrypto-tool in /opt/conda/lib/python3.10/site-packages (from oletools>=0.56->RTFDE==0.0.2->extract-msg==0.39.0->-r requirements.txt (line 30)) (5.2.0)\n",
      "Requirement already satisfied: pyasn1<0.6.0,>=0.4.6 in /opt/conda/lib/python3.10/site-packages (from pyasn1-modules>=0.2.1->google-auth<3.0dev,>=2.23.3->google-cloud-storage->-r requirements.txt (line 43)) (0.5.1)\n",
      "Requirement already satisfied: tzdata in /opt/conda/lib/python3.10/site-packages (from pytz-deprecation-shim->tzlocal==4.2->extract-msg==0.39.0->-r requirements.txt (line 30)) (2023.3)\n",
      "Requirement already satisfied: cryptography>=35.0 in /opt/conda/lib/python3.10/site-packages (from msoffcrypto-tool->oletools>=0.56->RTFDE==0.0.2->extract-msg==0.39.0->-r requirements.txt (line 30)) (41.0.7)\n",
      "Requirement already satisfied: cffi>=1.12 in /opt/conda/lib/python3.10/site-packages (from cryptography>=35.0->msoffcrypto-tool->oletools>=0.56->RTFDE==0.0.2->extract-msg==0.39.0->-r requirements.txt (line 30)) (1.16.0)\n",
      "Requirement already satisfied: pycparser in /opt/conda/lib/python3.10/site-packages (from cffi>=1.12->cryptography>=35.0->msoffcrypto-tool->oletools>=0.56->RTFDE==0.0.2->extract-msg==0.39.0->-r requirements.txt (line 30)) (2.21)\n",
      "\u001b[33mWARNING: There was an error checking the latest version of pip.\u001b[0m\u001b[33m\n",
      "\u001b[0m"
     ]
    }
   ],
   "source": [
    "! pip install -r requirements.txt"
   ]
  },
  {
   "cell_type": "code",
   "execution_count": 81,
   "metadata": {
    "id": "4421e56c4ee3",
    "tags": []
   },
   "outputs": [],
   "source": [
    "#! cat task.py"
   ]
  },
  {
   "cell_type": "code",
   "execution_count": 83,
   "metadata": {
    "tags": []
   },
   "outputs": [],
   "source": [
    "#%run task.py  --local-mode"
   ]
  },
  {
   "cell_type": "code",
   "execution_count": 84,
   "metadata": {
    "colab": {
     "base_uri": "https://localhost:8080/"
    },
    "id": "cb748af8f2b8",
    "outputId": "558e2b43-084e-4fa6-a045-fb457dfadba0"
   },
   "outputs": [],
   "source": [
    "#! ls ./tmp"
   ]
  },
  {
   "cell_type": "code",
   "execution_count": 85,
   "metadata": {
    "id": "2ca1626c5dbd"
   },
   "outputs": [],
   "source": [
    "#! rm -rf ./tmp"
   ]
  },
  {
   "cell_type": "markdown",
   "metadata": {
    "id": "4eb55916219c"
   },
   "source": [
    "## Vertex Training using Vertex SDK and Custom Container"
   ]
  },
  {
   "cell_type": "markdown",
   "metadata": {
    "id": "e61fc5c1b9e0"
   },
   "source": [
    "### Build Custom Container"
   ]
  },
  {
   "cell_type": "code",
   "execution_count": 86,
   "metadata": {
    "colab": {
     "base_uri": "https://localhost:8080/"
    },
    "id": "c70a580cc6d4",
    "outputId": "f9aea2f1-0fac-467f-975d-8ffa5fe05571"
   },
   "outputs": [
    {
     "name": "stdout",
     "output_type": "stream",
     "text": [
      "gcr.io/platformwenda-1571901528109/documentaicontainer1.0:latest\n"
     ]
    }
   ],
   "source": [
    "hostname = \"gcr.io\"\n",
    "image_name_train = content_name\n",
    "tag = \"latest\"\n",
    "\n",
    "custom_container_image_uri_train = f\"{hostname}/{PROJECT_ID}/{image_name_train}:{tag}\"\n",
    "print(custom_container_image_uri_train)"
   ]
  },
  {
   "cell_type": "code",
   "execution_count": 87,
   "metadata": {
    "tags": []
   },
   "outputs": [
    {
     "name": "stdout",
     "output_type": "stream",
     "text": [
      "Sending build context to Docker daemon  1.727GB\n",
      "Step 1/9 : FROM pytorch/pytorch:1.8.1-cuda11.1-cudnn8-runtime\n",
      " ---> 5ffed6c83695\n",
      "Step 2/9 : RUN apt-get update &&     apt-get install -y --no-install-recommends         make         gcc         libc-dev         musl-dev         ffmpeg         libsm6         libxext6         tesseract-ocr         libtesseract-dev         libreoffice-common         wkhtmltopdf         libreoffice-writer     && apt-get clean     && rm -rf /var/lib/apt/lists/*\n",
      " ---> Using cache\n",
      " ---> f424a0506d5a\n",
      "Step 3/9 : RUN apt-get update &&     apt-get install -y --no-install-recommends         git         build-essential     && apt-get clean     && rm -rf /var/lib/apt/lists/*\n",
      " ---> Using cache\n",
      " ---> 4d71248df555\n",
      "Step 4/9 : ARG DEBIAN_FRONTEND=noninteractive\n",
      " ---> Using cache\n",
      " ---> cd2123547d23\n",
      "Step 5/9 : WORKDIR /trainer\n",
      " ---> Using cache\n",
      " ---> 86372aec3918\n",
      "Step 6/9 : COPY requirements.txt .\n",
      " ---> Using cache\n",
      " ---> 486ca27fba91\n",
      "Step 7/9 : RUN python -m pip install --upgrade pip &&     pip install --no-cache-dir -r requirements.txt\n",
      " ---> Using cache\n",
      " ---> efca19c5b59e\n",
      "Step 8/9 : COPY . .\n",
      " ---> 1a88cf320b01\n",
      "Step 9/9 : ENTRYPOINT [\"python\", \"-m\", \"task\"]\n",
      " ---> Running in bacc88ee3700\n",
      "Removing intermediate container bacc88ee3700\n",
      " ---> a3fde097308c\n",
      "Successfully built a3fde097308c\n",
      "Successfully tagged gcr.io/platformwenda-1571901528109/documentaicontainer1.0:latest\n"
     ]
    }
   ],
   "source": [
    "#! cd trainer && docker build -t $custom_container_image_uri_train -f Dockerfile .\n",
    "!docker build -t $custom_container_image_uri_train -f Dockerfile ."
   ]
  },
  {
   "cell_type": "code",
   "execution_count": 88,
   "metadata": {
    "id": "bde55966086a"
   },
   "outputs": [
    {
     "name": "stdout",
     "output_type": "stream",
     "text": [
      "preprocessor_config.json: 100%|██████████| 275/275 [00:00<00:00, 65.0kB/s]\n",
      "tokenizer_config.json: 100%|██████████| 1.14k/1.14k [00:00<00:00, 269kB/s]\n",
      "config.json: 100%|██████████| 856/856 [00:00<00:00, 512kB/s]\n",
      "vocab.json: 100%|██████████| 899k/899k [00:00<00:00, 14.3MB/s]\n",
      "merges.txt: 100%|██████████| 456k/456k [00:00<00:00, 36.9MB/s]\n",
      "/opt/conda/lib/python3.8/site-packages/datasets/load.py:922: FutureWarning: The repository for dataset contains custom code which must be executed to correctly load the dataset. You can inspect the repository content at dataset.py\n",
      "You can avoid this message in future by passing the argument `trust_remote_code=True`.\n",
      "Passing `trust_remote_code=True` will be mandatory to load this dataset from the next major release of `datasets`.\n",
      "  warnings.warn(\n",
      "Generating train split: 33 examples [00:00, 235.58 examples/s]\n",
      "Generating test split: 0 examples [00:00, ? examples/s]dataset/train/images/EFLOW_20220104053707NN_IMAGE20220104_06360433060.jpg\n",
      "dataset/train/images/EFLOW_20220104071710NN_IMAGE20220104_08161833120.jpg\n",
      "dataset/train/images/EFLOW_20220104170440NN_IMAGE20220104_18031747500.jpg\n",
      "dataset/train/images/EFLOW_20220104170526NN_IMAGE20220104_18033147510.jpg\n",
      "dataset/train/images/EFLOW_20220110102026NN_IMAGE20220110_11190347670.jpg\n",
      "dataset/train/images/EFLOW_20220112053655NN_IMAGE20220112_06355433180.jpg\n",
      "dataset/train/images/EFLOW_20220112104528NN_IMAGE20220112_11435448220.jpg\n",
      "dataset/train/images/EFLOW_20220112154653NN_IMAGE20220112_16460148350.jpg\n",
      "dataset/train/images/EFLOW_20220112155342NN_IMAGE20220112_16524148370.jpg\n",
      "dataset/train/images/EFLOW_20220113145554NN_IMAGE20220113_15551448670.jpg\n",
      "dataset/train/images/EFLOW_20220114114352NN_IMAGE20220114_12423133420.jpg\n",
      "dataset/train/images/EFLOW_20220114120328NN_IMAGE20220114_13022033440.jpg\n",
      "dataset/train/images/EFLOW_20220114121348NN_IMAGE20220114_13130833460.jpg\n",
      "dataset/train/images/EFLOW_20220114124121NN_IMAGE20220114_13130833460.jpg\n",
      "dataset/train/images/EFLOW_20220119083939NN_IMAGE20220119_09375933700.jpg\n",
      "dataset/train/images/EFLOW_20220119084025NN_IMAGE20220119_09385949430.jpg\n",
      "dataset/train/images/EFLOW_20220119084309NN_IMAGE20220119_09415533720.jpg\n",
      "dataset/train/images/EFLOW_20220119150038NN_IMAGE20220119_15181949510.jpg\n",
      "dataset/train/images/EFLOW_20220121080958NN_IMAGE20220120_18233349770.jpg\n",
      "dataset/train/images/EFLOW_20220121141323NN_IMAGE20220121_15124533810.jpg\n",
      "dataset/train/images/EFLOW_20220121141910NN_IMAGE20220121_15172333820.jpg\n",
      "dataset/train/images/EFLOW_20220124105323NN_IMAGE20220124_11504549970.jpg\n",
      "dataset/train/images/EFLOW_20220124105409NN_IMAGE20220124_11510049980.jpg\n",
      "dataset/train/images/EFLOW_20220124105458NN_IMAGE20220124_11511649990.jpg\n",
      "dataset/train/images/EFLOW_20220124105525NN_IMAGE20220124_11513050000.jpg\n",
      "dataset/train/images/EFLOW_20220124155950NN_IMAGE20220124_16582550110.jpg\n",
      "dataset/train/images/EFLOW_20220124162839NN_IMAGE20220124_17271450120.jpg\n",
      "dataset/train/images/EFLOW_20220124162925NN_IMAGE20220124_17274650130.jpg\n",
      "dataset/train/images/EFLOW_20220124163013NN_IMAGE20220124_17282150140.jpg\n",
      "dataset/train/images/EFLOW_20220124163314NN_IMAGE20220124_17320850160.jpg\n",
      "dataset/train/images/EFLOW_20220125061047NN_IMAGE20220125_07095933980.jpg\n",
      "dataset/train/images/EFLOW_20220126095904NN_IMAGE20220126_10572650490.jpg\n",
      "dataset/train/images/EFLOW_20220127143144NN_IMAGE20220127_15295350800.jpg\n",
      "Generating test split: 11 examples [00:00, 241.03 examples/s]dataset/test/images/EFLOW_20220419124327NN_IMAGE20220419_14422660130.jpg\n",
      "dataset/test/images/EFLOW_20220419124650NN_IMAGE20220419_14461560140.jpg\n",
      "dataset/test/images/EFLOW_20220419125020NN_IMAGE20220419_14493260150.jpg\n",
      "dataset/test/images/EFLOW_20220419125456NN_IMAGE20220419_14531860160.jpg\n",
      "dataset/test/images/EFLOW_20220419130150NN_IMAGE20220419_15004460170.jpg\n",
      "dataset/test/images/EFLOW_20220419130734NN_IMAGE20220419_15065160190.jpg\n",
      "dataset/test/images/EFLOW_20220419131319NN_IMAGE20220419_15114560210.jpg\n",
      "dataset/test/images/EFLOW_20220420090750NN_IMAGE20220420_11060944180.jpg\n",
      "dataset/test/images/EFLOW_20220421065755NN_IMAGE20220421_08562044240.jpg\n",
      "dataset/test/images/EFLOW_20220421083847NN_IMAGE20220421_10373544290.jpg\n",
      "dataset/test/images/EFLOW_20220421090723NN_IMAGE20220421_11055044320.jpg\n",
      "loading dataset completed\n",
      "Define label-related parameters\n",
      "defining features done\n",
      "\n",
      "Map: 100%|██████████| 33/33 [00:17<00:00,  1.85 examples/s]prepration of train dataset\n",
      "\n",
      "Map: 100%|██████████| 11/11 [00:04<00:00,  2.72 examples/s]eval_dataset of train dataset\n",
      "converting to torch\n",
      "\n",
      "pytorch_model.bin: 100%|██████████| 501M/501M [00:05<00:00, 86.6MB/s] \n",
      "/opt/conda/lib/python3.8/site-packages/torch/_utils.py:831: UserWarning: TypedStorage is deprecated. It will be removed in the future and UntypedStorage will be the only storage class. This should only matter to you if you are using storages directly.  To access UntypedStorage directly, use tensor.untyped_storage() instead of tensor.storage()\n",
      "  return self.fget.__get__(instance, owner)()\n",
      "Some weights of LayoutLMv3ForTokenClassification were not initialized from the model checkpoint at microsoft/layoutlmv3-base and are newly initialized: ['classifier.bias', 'classifier.weight']\n",
      "You should probably TRAIN this model on a down-stream task to be able to use it for predictions and inference.\n",
      "Traceback (most recent call last):\n",
      "  File \"/opt/conda/lib/python3.8/runpy.py\", line 194, in _run_module_as_main\n",
      "    return _run_code(code, main_globals, None,\n",
      "  File \"/opt/conda/lib/python3.8/runpy.py\", line 87, in _run_code\n",
      "    exec(code, run_globals)\n",
      "  File \"/trainer/task.py\", line 212, in <module>\n",
      "    main()\n",
      "  File \"/trainer/task.py\", line 177, in main\n",
      "    output_dir=local_dir,\n",
      "NameError: name 'local_dir' is not defined\n",
      "model loaded\n",
      "training arguments started\n"
     ]
    }
   ],
   "source": [
    "#! docker run --rm $custom_container_image_uri_train --epochs 2 --local-mode\n",
    "! docker run --rm $custom_container_image_uri_train --local-mode"
   ]
  },
  {
   "cell_type": "code",
   "execution_count": 89,
   "metadata": {
    "id": "f4a3cdb78045"
   },
   "outputs": [
    {
     "name": "stdout",
     "output_type": "stream",
     "text": [
      "The push refers to repository [gcr.io/platformwenda-1571901528109/documentaicontainer1.0]\n",
      "\n",
      "\u001b[1Bb685f71f: Preparing \n",
      "\u001b[1B8d4fe012: Preparing \n",
      "\u001b[1Bbb008b26: Preparing \n",
      "\u001b[1B3213118b: Preparing \n",
      "\u001b[1B443e4314: Preparing \n",
      "\u001b[1Be9c44a93: Preparing \n",
      "\u001b[1B62e73fa9: Preparing \n",
      "\u001b[1B491659cb: Preparing \n",
      "\u001b[1Bdc413928: Preparing \n",
      "\u001b[1Bad8f2cae: Preparing \n",
      "\u001b[1B581dbc3c: Preparing \n",
      "\u001b[12B685f71f: Pushed   1.727GB/1.727GB\u001b[9A\u001b[2K\u001b[5A\u001b[2K\u001b[12A\u001b[2K\u001b[12A\u001b[2K\u001b[12A\u001b[2K\u001b[12A\u001b[2K\u001b[12A\u001b[2K\u001b[12A\u001b[2K\u001b[12A\u001b[2K\u001b[12A\u001b[2K\u001b[12A\u001b[2K\u001b[12A\u001b[2K\u001b[12A\u001b[2K\u001b[12A\u001b[2K\u001b[12A\u001b[2K\u001b[12A\u001b[2K\u001b[12A\u001b[2K\u001b[12A\u001b[2K\u001b[12A\u001b[2K\u001b[12A\u001b[2K\u001b[12A\u001b[2K\u001b[12A\u001b[2K\u001b[12A\u001b[2K\u001b[12A\u001b[2K\u001b[12A\u001b[2K\u001b[12A\u001b[2K\u001b[12A\u001b[2K\u001b[12A\u001b[2K\u001b[12A\u001b[2K\u001b[12A\u001b[2K\u001b[12A\u001b[2K\u001b[12A\u001b[2K\u001b[12A\u001b[2K\u001b[12A\u001b[2K\u001b[12A\u001b[2K\u001b[12A\u001b[2K\u001b[12A\u001b[2K\u001b[12A\u001b[2K\u001b[12A\u001b[2K\u001b[12A\u001b[2K\u001b[12A\u001b[2K\u001b[12A\u001b[2K\u001b[12A\u001b[2K\u001b[12A\u001b[2K\u001b[12A\u001b[2K\u001b[12A\u001b[2K\u001b[12A\u001b[2K\u001b[12A\u001b[2K\u001b[12A\u001b[2K\u001b[12A\u001b[2K\u001b[12A\u001b[2K\u001b[12A\u001b[2K\u001b[12A\u001b[2K\u001b[12A\u001b[2K\u001b[12A\u001b[2K\u001b[12A\u001b[2K\u001b[12A\u001b[2K\u001b[12A\u001b[2K\u001b[12A\u001b[2K\u001b[12A\u001b[2K\u001b[12A\u001b[2K\u001b[12A\u001b[2K\u001b[12A\u001b[2K\u001b[12A\u001b[2K\u001b[12A\u001b[2K\u001b[12A\u001b[2K\u001b[12A\u001b[2K\u001b[12A\u001b[2K\u001b[12A\u001b[2K\u001b[12A\u001b[2K\u001b[12A\u001b[2K\u001b[12A\u001b[2K\u001b[12A\u001b[2K\u001b[12A\u001b[2K\u001b[12A\u001b[2K\u001b[12A\u001b[2K\u001b[12A\u001b[2K\u001b[12A\u001b[2K\u001b[12A\u001b[2K\u001b[12A\u001b[2K\u001b[12A\u001b[2K\u001b[12A\u001b[2K\u001b[12A\u001b[2K\u001b[12A\u001b[2K\u001b[12A\u001b[2K\u001b[12A\u001b[2K\u001b[12A\u001b[2K\u001b[12A\u001b[2K\u001b[12A\u001b[2K\u001b[12A\u001b[2K\u001b[12A\u001b[2K\u001b[12A\u001b[2K\u001b[12A\u001b[2K\u001b[12A\u001b[2K\u001b[12A\u001b[2K\u001b[12A\u001b[2K\u001b[12A\u001b[2K\u001b[12A\u001b[2K\u001b[12A\u001b[2K\u001b[12A\u001b[2K\u001b[12A\u001b[2K\u001b[12A\u001b[2K\u001b[12A\u001b[2K\u001b[12A\u001b[2K\u001b[12A\u001b[2K\u001b[12A\u001b[2K\u001b[12A\u001b[2K\u001b[12A\u001b[2K\u001b[12A\u001b[2K\u001b[12A\u001b[2K\u001b[12A\u001b[2K\u001b[12A\u001b[2K\u001b[12A\u001b[2K\u001b[12A\u001b[2K\u001b[12A\u001b[2K\u001b[12A\u001b[2K\u001b[12A\u001b[2K\u001b[12A\u001b[2K\u001b[12A\u001b[2K\u001b[12A\u001b[2K\u001b[12A\u001b[2K\u001b[12A\u001b[2K\u001b[12A\u001b[2K\u001b[12A\u001b[2K\u001b[12A\u001b[2K\u001b[12A\u001b[2K\u001b[12A\u001b[2K\u001b[12A\u001b[2K\u001b[12A\u001b[2K\u001b[12A\u001b[2K\u001b[12A\u001b[2K\u001b[12A\u001b[2K\u001b[12A\u001b[2K\u001b[12A\u001b[2K\u001b[12A\u001b[2K\u001b[12A\u001b[2K\u001b[12A\u001b[2K\u001b[12A\u001b[2K\u001b[12A\u001b[2K\u001b[12A\u001b[2K\u001b[12A\u001b[2K\u001b[12A\u001b[2K\u001b[12A\u001b[2K\u001b[12A\u001b[2K\u001b[12A\u001b[2K\u001b[12A\u001b[2K\u001b[12A\u001b[2K\u001b[12A\u001b[2K\u001b[12A\u001b[2K\u001b[12A\u001b[2K\u001b[12A\u001b[2K\u001b[12A\u001b[2K\u001b[12A\u001b[2K\u001b[12A\u001b[2K\u001b[12A\u001b[2K\u001b[12A\u001b[2K\u001b[12A\u001b[2K\u001b[12A\u001b[2K\u001b[12A\u001b[2K\u001b[12A\u001b[2K\u001b[12A\u001b[2K\u001b[12A\u001b[2K\u001b[12A\u001b[2K\u001b[12A\u001b[2K\u001b[12A\u001b[2K\u001b[12A\u001b[2K\u001b[12A\u001b[2K\u001b[12A\u001b[2K\u001b[12A\u001b[2K\u001b[12A\u001b[2K\u001b[12A\u001b[2K\u001b[12A\u001b[2K\u001b[12A\u001b[2K\u001b[12A\u001b[2K\u001b[12A\u001b[2K\u001b[12A\u001b[2K\u001b[12A\u001b[2K\u001b[12A\u001b[2K\u001b[12A\u001b[2K\u001b[12A\u001b[2K\u001b[12A\u001b[2K\u001b[12A\u001b[2K\u001b[12A\u001b[2K\u001b[12A\u001b[2K\u001b[12A\u001b[2K\u001b[12A\u001b[2K\u001b[12A\u001b[2K\u001b[12A\u001b[2K\u001b[12A\u001b[2K\u001b[12A\u001b[2K\u001b[12A\u001b[2K\u001b[12A\u001b[2K\u001b[12A\u001b[2K\u001b[12A\u001b[2K\u001b[12A\u001b[2K\u001b[12A\u001b[2K\u001b[12A\u001b[2K\u001b[12A\u001b[2K\u001b[12A\u001b[2K\u001b[12A\u001b[2K\u001b[12A\u001b[2K\u001b[12A\u001b[2K\u001b[12A\u001b[2K\u001b[12A\u001b[2K\u001b[12A\u001b[2K\u001b[12A\u001b[2K\u001b[12A\u001b[2K\u001b[12A\u001b[2K\u001b[12A\u001b[2K\u001b[12A\u001b[2K\u001b[12A\u001b[2K\u001b[12A\u001b[2K\u001b[12A\u001b[2K\u001b[12A\u001b[2K\u001b[12A\u001b[2K\u001b[12A\u001b[2K\u001b[12A\u001b[2K\u001b[12A\u001b[2K\u001b[12A\u001b[2K\u001b[12A\u001b[2K\u001b[12A\u001b[2K\u001b[12A\u001b[2K\u001b[12A\u001b[2K\u001b[12A\u001b[2K\u001b[12A\u001b[2K\u001b[12A\u001b[2K\u001b[12A\u001b[2K\u001b[12A\u001b[2K\u001b[12A\u001b[2K\u001b[12A\u001b[2K\u001b[12A\u001b[2K\u001b[12A\u001b[2K\u001b[12A\u001b[2K\u001b[12A\u001b[2K\u001b[12A\u001b[2K\u001b[12A\u001b[2K\u001b[12A\u001b[2K\u001b[12A\u001b[2K\u001b[12A\u001b[2K\u001b[12A\u001b[2K\u001b[12A\u001b[2K\u001b[12A\u001b[2K\u001b[12A\u001b[2K\u001b[12A\u001b[2K\u001b[12A\u001b[2K\u001b[12A\u001b[2K\u001b[12A\u001b[2K\u001b[12A\u001b[2K\u001b[12A\u001b[2K\u001b[12A\u001b[2K\u001b[12A\u001b[2K\u001b[12A\u001b[2K\u001b[12A\u001b[2K\u001b[12A\u001b[2K\u001b[12A\u001b[2K\u001b[12A\u001b[2K\u001b[12A\u001b[2K\u001b[12A\u001b[2K\u001b[12A\u001b[2K\u001b[12A\u001b[2K\u001b[12A\u001b[2K\u001b[12A\u001b[2K\u001b[12A\u001b[2K\u001b[12A\u001b[2K\u001b[12A\u001b[2K\u001b[12A\u001b[2K\u001b[12A\u001b[2K\u001b[12A\u001b[2K\u001b[12A\u001b[2K\u001b[12A\u001b[2K\u001b[12A\u001b[2K\u001b[12A\u001b[2K\u001b[12A\u001b[2K\u001b[12A\u001b[2K\u001b[12A\u001b[2K\u001b[12A\u001b[2K\u001b[12A\u001b[2K\u001b[12A\u001b[2K\u001b[12A\u001b[2K\u001b[12A\u001b[2K\u001b[12A\u001b[2K\u001b[12A\u001b[2K\u001b[12A\u001b[2K\u001b[12A\u001b[2K\u001b[12A\u001b[2K\u001b[12A\u001b[2K\u001b[12A\u001b[2K\u001b[12A\u001b[2K\u001b[12A\u001b[2K\u001b[12A\u001b[2K\u001b[12A\u001b[2K\u001b[12A\u001b[2K\u001b[12A\u001b[2K\u001b[12A\u001b[2K\u001b[12A\u001b[2K\u001b[12A\u001b[2K\u001b[12A\u001b[2K\u001b[12A\u001b[2K\u001b[12A\u001b[2K\u001b[12A\u001b[2K\u001b[12A\u001b[2K\u001b[12A\u001b[2K\u001b[12A\u001b[2K\u001b[12A\u001b[2K\u001b[12A\u001b[2K\u001b[12A\u001b[2K\u001b[12A\u001b[2K\u001b[12A\u001b[2K\u001b[12A\u001b[2K\u001b[12A\u001b[2K\u001b[12A\u001b[2K\u001b[12A\u001b[2K\u001b[12A\u001b[2K\u001b[12A\u001b[2K\u001b[12A\u001b[2K\u001b[12A\u001b[2K\u001b[12A\u001b[2K\u001b[12A\u001b[2K\u001b[12A\u001b[2K\u001b[12A\u001b[2K\u001b[12A\u001b[2K\u001b[12A\u001b[2K\u001b[12A\u001b[2K\u001b[12A\u001b[2K\u001b[12A\u001b[2K\u001b[12A\u001b[2K\u001b[12A\u001b[2K\u001b[12A\u001b[2K\u001b[12A\u001b[2K\u001b[12A\u001b[2K\u001b[12A\u001b[2K\u001b[12A\u001b[2K\u001b[12A\u001b[2K\u001b[12A\u001b[2K\u001b[12A\u001b[2K\u001b[12A\u001b[2K\u001b[12A\u001b[2K\u001b[12A\u001b[2K\u001b[12A\u001b[2K\u001b[12A\u001b[2K\u001b[12A\u001b[2K\u001b[12A\u001b[2K\u001b[12A\u001b[2K\u001b[12A\u001b[2K\u001b[12A\u001b[2K\u001b[12A\u001b[2K\u001b[12A\u001b[2K\u001b[12A\u001b[2K\u001b[12A\u001b[2K\u001b[12A\u001b[2K\u001b[12A\u001b[2K\u001b[12A\u001b[2K\u001b[12A\u001b[2K\u001b[12A\u001b[2K\u001b[12A\u001b[2K\u001b[12A\u001b[2K\u001b[12A\u001b[2K\u001b[12A\u001b[2K\u001b[12A\u001b[2K\u001b[12A\u001b[2K\u001b[12A\u001b[2K\u001b[12A\u001b[2K\u001b[12A\u001b[2K\u001b[12A\u001b[2K\u001b[12A\u001b[2K\u001b[12A\u001b[2K\u001b[12A\u001b[2K\u001b[12A\u001b[2K\u001b[12A\u001b[2K\u001b[12A\u001b[2K\u001b[12A\u001b[2K\u001b[12A\u001b[2K\u001b[12A\u001b[2K\u001b[12A\u001b[2K\u001b[12A\u001b[2K\u001b[12A\u001b[2K\u001b[12A\u001b[2K\u001b[12A\u001b[2K\u001b[12A\u001b[2K\u001b[12A\u001b[2K\u001b[12A\u001b[2K\u001b[12A\u001b[2K\u001b[12A\u001b[2K\u001b[12A\u001b[2K\u001b[12A\u001b[2K\u001b[12A\u001b[2K\u001b[12A\u001b[2K\u001b[12A\u001b[2K\u001b[12A\u001b[2K\u001b[12A\u001b[2K\u001b[12A\u001b[2K\u001b[12A\u001b[2K\u001b[12A\u001b[2K\u001b[12A\u001b[2K\u001b[12A\u001b[2K\u001b[12A\u001b[2K\u001b[12A\u001b[2K\u001b[12A\u001b[2K\u001b[12A\u001b[2K\u001b[12A\u001b[2K\u001b[12A\u001b[2K\u001b[12A\u001b[2K\u001b[12A\u001b[2K\u001b[12A\u001b[2K\u001b[12A\u001b[2K\u001b[12A\u001b[2K\u001b[12A\u001b[2K\u001b[12A\u001b[2K\u001b[12A\u001b[2K\u001b[12A\u001b[2K\u001b[12A\u001b[2K\u001b[12A\u001b[2K\u001b[12A\u001b[2K\u001b[12A\u001b[2K\u001b[12A\u001b[2K\u001b[12A\u001b[2K\u001b[12A\u001b[2K\u001b[12A\u001b[2K\u001b[12A\u001b[2K\u001b[12A\u001b[2K\u001b[12A\u001b[2K\u001b[12A\u001b[2K\u001b[12A\u001b[2K\u001b[12A\u001b[2K\u001b[12A\u001b[2K\u001b[12A\u001b[2K\u001b[12A\u001b[2K\u001b[12A\u001b[2K\u001b[12A\u001b[2K\u001b[12A\u001b[2K\u001b[12A\u001b[2K\u001b[12A\u001b[2K\u001b[12A\u001b[2K\u001b[12A\u001b[2K\u001b[12A\u001b[2K\u001b[12A\u001b[2K\u001b[12A\u001b[2K\u001b[12A\u001b[2K\u001b[12A\u001b[2K\u001b[12A\u001b[2K\u001b[12A\u001b[2K\u001b[12A\u001b[2K\u001b[12A\u001b[2K\u001b[12A\u001b[2K\u001b[12A\u001b[2K\u001b[12A\u001b[2K\u001b[12A\u001b[2K\u001b[12A\u001b[2K\u001b[12A\u001b[2K\u001b[12A\u001b[2K\u001b[12A\u001b[2K\u001b[12A\u001b[2K\u001b[12A\u001b[2K\u001b[12A\u001b[2K\u001b[12A\u001b[2K\u001b[12A\u001b[2K\u001b[12A\u001b[2K\u001b[12A\u001b[2K\u001b[12A\u001b[2K\u001b[12A\u001b[2K\u001b[12A\u001b[2K\u001b[12A\u001b[2K\u001b[12A\u001b[2K\u001b[12A\u001b[2K\u001b[12A\u001b[2K\u001b[12A\u001b[2K\u001b[12A\u001b[2K\u001b[12A\u001b[2K\u001b[12A\u001b[2K\u001b[12A\u001b[2K\u001b[12A\u001b[2K\u001b[12A\u001b[2K\u001b[12A\u001b[2K\u001b[12A\u001b[2K\u001b[12A\u001b[2K\u001b[12A\u001b[2K\u001b[12A\u001b[2K\u001b[12A\u001b[2K\u001b[12A\u001b[2K\u001b[12A\u001b[2K\u001b[12A\u001b[2K\u001b[12A\u001b[2K\u001b[12A\u001b[2K\u001b[12A\u001b[2K\u001b[12A\u001b[2K\u001b[12A\u001b[2K\u001b[12A\u001b[2K\u001b[12A\u001b[2K\u001b[12A\u001b[2K\u001b[12A\u001b[2K\u001b[12A\u001b[2K\u001b[12A\u001b[2K\u001b[12A\u001b[2K\u001b[12A\u001b[2K\u001b[12A\u001b[2K\u001b[12A\u001b[2K\u001b[12A\u001b[2K\u001b[12A\u001b[2K\u001b[12A\u001b[2K\u001b[12A\u001b[2K\u001b[12A\u001b[2K\u001b[12A\u001b[2K\u001b[12A\u001b[2K\u001b[12A\u001b[2K\u001b[12A\u001b[2K\u001b[12A\u001b[2K\u001b[12A\u001b[2K\u001b[12A\u001b[2K\u001b[12A\u001b[2K\u001b[12A\u001b[2K\u001b[12A\u001b[2K\u001b[12A\u001b[2K\u001b[12A\u001b[2K\u001b[12A\u001b[2K\u001b[12A\u001b[2K\u001b[12A\u001b[2K\u001b[12A\u001b[2K\u001b[12A\u001b[2K\u001b[12A\u001b[2K\u001b[12A\u001b[2K\u001b[12A\u001b[2K\u001b[12A\u001b[2K\u001b[12A\u001b[2K\u001b[12A\u001b[2K\u001b[12A\u001b[2K\u001b[12A\u001b[2K\u001b[12A\u001b[2K\u001b[12A\u001b[2K\u001b[12A\u001b[2K\u001b[12A\u001b[2K\u001b[12A\u001b[2K\u001b[12A\u001b[2K\u001b[12A\u001b[2Klatest: digest: sha256:190236a390f82a663de64b9b4a9a62a34adeed0cc3b04055cf838e686d27642f size: 2842\n"
     ]
    }
   ],
   "source": [
    "#! docker push $custom_container_image_uri_train\n",
    "! docker push $custom_container_image_uri_train"
   ]
  },
  {
   "cell_type": "code",
   "execution_count": 90,
   "metadata": {
    "id": "526115eabf35"
   },
   "outputs": [
    {
     "name": "stdout",
     "output_type": "stream",
     "text": [
      "NAME\n",
      "gcr.io/platformwenda-1571901528109/aicontainer\n",
      "gcr.io/platformwenda-1571901528109/cont-torchserve\n",
      "gcr.io/platformwenda-1571901528109/documentaicontainer1.0\n",
      "gcr.io/platformwenda-1571901528109/documentaimodelcontainer\n",
      "gcr.io/platformwenda-1571901528109/pt-img-cls-gpu-cust-cont-torchserve\n",
      "gcr.io/platformwenda-1571901528109/pt-img-cls-gpu-cust-cont-torchserve-antandbee\n",
      "gcr.io/platformwenda-1571901528109/pytorchaicontainer\n"
     ]
    }
   ],
   "source": [
    "#! gcloud container images list --repository $hostname/$PROJECT_ID\n",
    "! gcloud container images list --repository $hostname/$PROJECT_ID"
   ]
  },
  {
   "cell_type": "markdown",
   "metadata": {
    "id": "f026b57d265e"
   },
   "source": [
    "### Initialize Vertex SDK"
   ]
  },
  {
   "cell_type": "code",
   "execution_count": 91,
   "metadata": {
    "id": "19c02e9e9b8d"
   },
   "outputs": [],
   "source": [
    "#! pip install -r requirements.txt"
   ]
  },
  {
   "cell_type": "code",
   "execution_count": 92,
   "metadata": {
    "id": "a0deece1086e"
   },
   "outputs": [],
   "source": [
    "from google.cloud import aiplatform\n",
    "\n",
    "aiplatform.init(\n",
    "    project=PROJECT_ID,\n",
    "    staging_bucket=BUCKET_NAME,\n",
    "    location=REGION,\n",
    ")"
   ]
  },
  {
   "cell_type": "markdown",
   "metadata": {
    "id": "1ec68e279ed1"
   },
   "source": [
    "### Create a Vertex Tensorboard Instance"
   ]
  },
  {
   "cell_type": "code",
   "execution_count": null,
   "metadata": {
    "colab": {
     "base_uri": "https://localhost:8080/"
    },
    "id": "d945f0e32b02",
    "outputId": "105eb3cf-35f5-4f8d-c2ee-58f27122ec9b"
   },
   "outputs": [],
   "source": [
    "tensorboard = aiplatform.Tensorboard.create(\n",
    "    display_name=content_name,\n",
    ")"
   ]
  },
  {
   "cell_type": "markdown",
   "metadata": {
    "id": "cb13cc82acc5"
   },
   "source": [
    "#### Option: Use a Previously Created Vertex Tensorboard Instance\n",
    "\n",
    "```\n",
    "tensorboard_name = \"Your Tensorboard Resource Name or Tensorboard ID\"\n",
    "tensorboard = aiplatform.Tensorboard(tensorboard_name=tensorboard_name)\n",
    "```"
   ]
  },
  {
   "cell_type": "markdown",
   "metadata": {
    "id": "d04453c214d2"
   },
   "source": [
    "### Run a Vertex SDK CustomContainerTrainingJob"
   ]
  },
  {
   "cell_type": "code",
   "execution_count": null,
   "metadata": {
    "id": "4b5b5dea03c8"
   },
   "outputs": [],
   "source": [
    "display_name = content_name\n",
    "gcs_output_uri_prefix = f\"{BUCKET_NAME}/{display_name}\"\n",
    "\n",
    "machine_type = \"n1-standard-4\"\n",
    "accelerator_count = 1\n",
    "accelerator_type = \"NVIDIA_TESLA_K80\"\n",
    "\n",
    "'''\n",
    "container_args = [\n",
    "    \"--batch-size\",\n",
    "    \"256\",\n",
    "    \"--epochs\",\n",
    "    \"100\",\n",
    "]\n",
    "'''"
   ]
  },
  {
   "cell_type": "code",
   "execution_count": null,
   "metadata": {
    "id": "b2073fb5824e"
   },
   "outputs": [],
   "source": [
    "custom_container_training_job = aiplatform.CustomContainerTrainingJob(\n",
    "    display_name=display_name,\n",
    "    container_uri=custom_container_image_uri_train,\n",
    ")"
   ]
  },
  {
   "cell_type": "code",
   "execution_count": null,
   "metadata": {
    "colab": {
     "base_uri": "https://localhost:8080/",
     "height": 533
    },
    "id": "d442a02878d1",
    "outputId": "a2e3e186-287f-491f-abce-570c29b5d3c6"
   },
   "outputs": [],
   "source": [
    "custom_container_training_job.run(\n",
    "    #args=container_args,\n",
    "    base_output_dir=gcs_output_uri_prefix,\n",
    "    machine_type=machine_type,\n",
    "    accelerator_type=accelerator_type,\n",
    "    accelerator_count=accelerator_count,\n",
    "    tensorboard=tensorboard.resource_name,\n",
    "    service_account=SERVICE_ACCOUNT\n",
    ")"
   ]
  },
  {
   "cell_type": "code",
   "execution_count": null,
   "metadata": {
    "id": "29b14f2289f3"
   },
   "outputs": [],
   "source": [
    "print(f\"Custom Training Job Name: {custom_container_training_job.resource_name}\")\n",
    "print(f\"GCS Output URI Prefix: {gcs_output_uri_prefix}\")"
   ]
  },
  {
   "cell_type": "markdown",
   "metadata": {
    "id": "3ab127e5f2b2"
   },
   "source": [
    "### Training Artifact"
   ]
  },
  {
   "cell_type": "code",
   "execution_count": null,
   "metadata": {
    "id": "8e0c74a00dee"
   },
   "outputs": [],
   "source": [
    "! gsutil ls $gcs_output_uri_prefix"
   ]
  },
  {
   "cell_type": "code",
   "execution_count": null,
   "metadata": {},
   "outputs": [],
   "source": []
  },
  {
   "cell_type": "code",
   "execution_count": null,
   "metadata": {},
   "outputs": [],
   "source": []
  }
 ],
 "metadata": {
  "colab": {
   "provenance": []
  },
  "environment": {
   "kernel": "python3",
   "name": ".m114",
   "type": "gcloud",
   "uri": "gcr.io/deeplearning-platform-release/:m114"
  },
  "kernelspec": {
   "display_name": "Python 3",
   "language": "python",
   "name": "python3"
  },
  "language_info": {
   "codemirror_mode": {
    "name": "ipython",
    "version": 3
   },
   "file_extension": ".py",
   "mimetype": "text/x-python",
   "name": "python",
   "nbconvert_exporter": "python",
   "pygments_lexer": "ipython3",
   "version": "3.10.13"
  }
 },
 "nbformat": 4,
 "nbformat_minor": 4
}
